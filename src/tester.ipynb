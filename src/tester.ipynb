{
 "cells": [
  {
   "cell_type": "code",
   "execution_count": 1,
   "metadata": {},
   "outputs": [],
   "source": [
    "import random\n",
    "#import matplotlib.pyplot as plt\n",
    "import networkx as nx\n",
    "import pandas as pd\n",
    "import csv\n",
    "from pgmpy.readwrite import BIFReader\n",
    "import time\n",
    "from itertools import combinations\n",
    "import statistics\n",
    "import bnlearn as bn\n",
    "from pgmpy.metrics import structure_score\n",
    "from pgmpy.models import BayesianNetwork\n",
    "import gc\n",
    "from utils import *\n",
    "from ga_operators import *\n",
    "from loaders import *\n",
    "import matplotlib.pyplot as plt"
   ]
  },
  {
   "cell_type": "code",
   "execution_count": 55,
   "metadata": {},
   "outputs": [],
   "source": [
    "data = load_asia_data(sample_size=1000)\n",
    "d = data.shape[1]"
   ]
  },
  {
   "cell_type": "code",
   "execution_count": 56,
   "metadata": {},
   "outputs": [
    {
     "data": {
      "text/html": [
       "<div>\n",
       "<style scoped>\n",
       "    .dataframe tbody tr th:only-of-type {\n",
       "        vertical-align: middle;\n",
       "    }\n",
       "\n",
       "    .dataframe tbody tr th {\n",
       "        vertical-align: top;\n",
       "    }\n",
       "\n",
       "    .dataframe thead th {\n",
       "        text-align: right;\n",
       "    }\n",
       "</style>\n",
       "<table border=\"1\" class=\"dataframe\">\n",
       "  <thead>\n",
       "    <tr style=\"text-align: right;\">\n",
       "      <th></th>\n",
       "      <th>S</th>\n",
       "      <th>L</th>\n",
       "      <th>A</th>\n",
       "      <th>T</th>\n",
       "      <th>E</th>\n",
       "      <th>X</th>\n",
       "      <th>B</th>\n",
       "      <th>D</th>\n",
       "    </tr>\n",
       "  </thead>\n",
       "  <tbody>\n",
       "    <tr>\n",
       "      <th>8445</th>\n",
       "      <td>1</td>\n",
       "      <td>0</td>\n",
       "      <td>0</td>\n",
       "      <td>0</td>\n",
       "      <td>0</td>\n",
       "      <td>0</td>\n",
       "      <td>0</td>\n",
       "      <td>0</td>\n",
       "    </tr>\n",
       "    <tr>\n",
       "      <th>980</th>\n",
       "      <td>0</td>\n",
       "      <td>0</td>\n",
       "      <td>0</td>\n",
       "      <td>0</td>\n",
       "      <td>0</td>\n",
       "      <td>0</td>\n",
       "      <td>0</td>\n",
       "      <td>0</td>\n",
       "    </tr>\n",
       "    <tr>\n",
       "      <th>9701</th>\n",
       "      <td>0</td>\n",
       "      <td>0</td>\n",
       "      <td>0</td>\n",
       "      <td>0</td>\n",
       "      <td>0</td>\n",
       "      <td>0</td>\n",
       "      <td>0</td>\n",
       "      <td>0</td>\n",
       "    </tr>\n",
       "    <tr>\n",
       "      <th>3612</th>\n",
       "      <td>0</td>\n",
       "      <td>0</td>\n",
       "      <td>0</td>\n",
       "      <td>0</td>\n",
       "      <td>0</td>\n",
       "      <td>0</td>\n",
       "      <td>1</td>\n",
       "      <td>0</td>\n",
       "    </tr>\n",
       "    <tr>\n",
       "      <th>3282</th>\n",
       "      <td>1</td>\n",
       "      <td>0</td>\n",
       "      <td>0</td>\n",
       "      <td>0</td>\n",
       "      <td>0</td>\n",
       "      <td>0</td>\n",
       "      <td>0</td>\n",
       "      <td>0</td>\n",
       "    </tr>\n",
       "  </tbody>\n",
       "</table>\n",
       "</div>"
      ],
      "text/plain": [
       "      S  L  A  T  E  X  B  D\n",
       "8445  1  0  0  0  0  0  0  0\n",
       "980   0  0  0  0  0  0  0  0\n",
       "9701  0  0  0  0  0  0  0  0\n",
       "3612  0  0  0  0  0  0  1  0\n",
       "3282  1  0  0  0  0  0  0  0"
      ]
     },
     "execution_count": 56,
     "metadata": {},
     "output_type": "execute_result"
    }
   ],
   "source": [
    "data.head()"
   ]
  },
  {
   "cell_type": "code",
   "execution_count": 57,
   "metadata": {},
   "outputs": [],
   "source": [
    "# Dictionary to enumarate the nodes\n",
    "node2idx = {}\n",
    "for i, node in enumerate(data.columns):\n",
    "    node2idx[node] = i\n",
    "\n",
    "idx2node = {}\n",
    "for i, node in enumerate(data.columns):\n",
    "    idx2node[i] = node\n",
    "\n",
    "idx2node\n",
    "\n",
    "variables = list(data.columns)\n",
    "\n",
    "var2num = {}\n",
    "for var, num in zip(variables, range(d)):\n",
    "    var2num[var] = num\n",
    "    \n",
    "num2var = {value: key for key, value in var2num.items()}"
   ]
  },
  {
   "cell_type": "code",
   "execution_count": 58,
   "metadata": {},
   "outputs": [],
   "source": [
    "# Generate all possible pairs of elements from the variables\n",
    "edges = list(combinations(variables, 2))\n",
    "\n",
    "num_edges = len(edges)\n",
    "\n",
    "# Create a dictionary with enumerated pairs\n",
    "edge2idx = {edge: index for index, edge in enumerate(edges)}\n",
    "idx2edge = {index: edge for index, edge in zip(edge2idx.values(), edge2idx.keys()) }\n",
    "\n",
    "gt_vec = np.zeros(28)\n",
    "\n",
    "gt_edges = [('A', 'T'), ('T', 'E'), ('E', 'X'), ('E', 'D'), ('S', 'L'), ('S', 'B'), ('B', 'D'), ('L', 'E')]\n",
    "for edge in gt_edges:\n",
    "    if edge in edge2idx.keys():\n",
    "        gt_vec[edge2idx[edge]] = 1\n",
    "    else:\n",
    "        gt_vec[edge2idx[edge[::-1]]] = -1\n",
    "\n",
    "def vec2bayesNet(vector):\n",
    "    BN = BayesianNetwork()\n",
    "    for i in range(len(vector)):\n",
    "        if vector[i] > 0:\n",
    "            BN.add_edge(idx2edge[i][0], idx2edge[i][1])\n",
    "            \n",
    "        if vector[i] < 0:\n",
    "            BN.add_edge(idx2edge[i][1], idx2edge[i][0])\n",
    "            \n",
    "    return BN\n",
    "\n",
    "gt_from_vec = vec2bayesNet(gt_vec)"
   ]
  },
  {
   "cell_type": "code",
   "execution_count": 59,
   "metadata": {},
   "outputs": [
    {
     "data": {
      "text/plain": [
       "OutEdgeView([('S', 'L'), ('S', 'B'), ('L', 'E'), ('B', 'D'), ('E', 'X'), ('E', 'D'), ('A', 'T'), ('T', 'E')])"
      ]
     },
     "execution_count": 59,
     "metadata": {},
     "output_type": "execute_result"
    }
   ],
   "source": [
    "gt_from_vec.edges"
   ]
  },
  {
   "cell_type": "code",
   "execution_count": 60,
   "metadata": {},
   "outputs": [
    {
     "data": {
      "text/plain": [
       "AdjacencyView({'S': {'L': {'weight': None}, 'B': {'weight': None}}, 'L': {'E': {'weight': None}}, 'B': {'D': {'weight': None}}, 'E': {'X': {'weight': None}, 'D': {'weight': None}}, 'A': {'T': {'weight': None}}, 'T': {'E': {'weight': None}}, 'X': {}, 'D': {}})"
      ]
     },
     "execution_count": 60,
     "metadata": {},
     "output_type": "execute_result"
    }
   ],
   "source": [
    "gt_from_vec.adj"
   ]
  },
  {
   "cell_type": "code",
   "execution_count": 61,
   "metadata": {},
   "outputs": [
    {
     "data": {
      "text/plain": [
       "2265.7178564590577"
      ]
     },
     "execution_count": 61,
     "metadata": {},
     "output_type": "execute_result"
    }
   ],
   "source": [
    "np.abs(structure_score(gt_from_vec, data, scoring_method=\"bic\"))"
   ]
  },
  {
   "cell_type": "code",
   "execution_count": 62,
   "metadata": {},
   "outputs": [
    {
     "data": {
      "text/html": [
       "<div>\n",
       "<style scoped>\n",
       "    .dataframe tbody tr th:only-of-type {\n",
       "        vertical-align: middle;\n",
       "    }\n",
       "\n",
       "    .dataframe tbody tr th {\n",
       "        vertical-align: top;\n",
       "    }\n",
       "\n",
       "    .dataframe thead th {\n",
       "        text-align: right;\n",
       "    }\n",
       "</style>\n",
       "<table border=\"1\" class=\"dataframe\">\n",
       "  <thead>\n",
       "    <tr style=\"text-align: right;\">\n",
       "      <th></th>\n",
       "      <th>S</th>\n",
       "      <th>L</th>\n",
       "      <th>A</th>\n",
       "      <th>T</th>\n",
       "      <th>E</th>\n",
       "      <th>X</th>\n",
       "      <th>B</th>\n",
       "      <th>D</th>\n",
       "    </tr>\n",
       "  </thead>\n",
       "  <tbody>\n",
       "    <tr>\n",
       "      <th>8445</th>\n",
       "      <td>1</td>\n",
       "      <td>0</td>\n",
       "      <td>0</td>\n",
       "      <td>0</td>\n",
       "      <td>0</td>\n",
       "      <td>0</td>\n",
       "      <td>0</td>\n",
       "      <td>0</td>\n",
       "    </tr>\n",
       "    <tr>\n",
       "      <th>980</th>\n",
       "      <td>0</td>\n",
       "      <td>0</td>\n",
       "      <td>0</td>\n",
       "      <td>0</td>\n",
       "      <td>0</td>\n",
       "      <td>0</td>\n",
       "      <td>0</td>\n",
       "      <td>0</td>\n",
       "    </tr>\n",
       "    <tr>\n",
       "      <th>9701</th>\n",
       "      <td>0</td>\n",
       "      <td>0</td>\n",
       "      <td>0</td>\n",
       "      <td>0</td>\n",
       "      <td>0</td>\n",
       "      <td>0</td>\n",
       "      <td>0</td>\n",
       "      <td>0</td>\n",
       "    </tr>\n",
       "    <tr>\n",
       "      <th>3612</th>\n",
       "      <td>0</td>\n",
       "      <td>0</td>\n",
       "      <td>0</td>\n",
       "      <td>0</td>\n",
       "      <td>0</td>\n",
       "      <td>0</td>\n",
       "      <td>1</td>\n",
       "      <td>0</td>\n",
       "    </tr>\n",
       "    <tr>\n",
       "      <th>3282</th>\n",
       "      <td>1</td>\n",
       "      <td>0</td>\n",
       "      <td>0</td>\n",
       "      <td>0</td>\n",
       "      <td>0</td>\n",
       "      <td>0</td>\n",
       "      <td>0</td>\n",
       "      <td>0</td>\n",
       "    </tr>\n",
       "  </tbody>\n",
       "</table>\n",
       "</div>"
      ],
      "text/plain": [
       "      S  L  A  T  E  X  B  D\n",
       "8445  1  0  0  0  0  0  0  0\n",
       "980   0  0  0  0  0  0  0  0\n",
       "9701  0  0  0  0  0  0  0  0\n",
       "3612  0  0  0  0  0  0  1  0\n",
       "3282  1  0  0  0  0  0  0  0"
      ]
     },
     "execution_count": 62,
     "metadata": {},
     "output_type": "execute_result"
    }
   ],
   "source": [
    "data.head()"
   ]
  },
  {
   "cell_type": "code",
   "execution_count": 63,
   "metadata": {},
   "outputs": [
    {
     "data": {
      "image/png": "[encoded data removed]",
      "text/plain": [
       "<Figure size 432x288 with 1 Axes>"
      ]
     },
     "metadata": {},
     "output_type": "display_data"
    }
   ],
   "source": [
    "# Ground truth graph\n",
    "gt_adj = np.zeros([8,8])\n",
    "gt_adj[0,1] = 1\n",
    "gt_adj[0,6] = 1\n",
    "gt_adj[1,4] = 1\n",
    "gt_adj[2,3] = 1\n",
    "gt_adj[3,4] = 1\n",
    "gt_adj[4,5] = 1\n",
    "gt_adj[4,7] = 1\n",
    "gt_adj[6,7] = 1\n",
    "\n",
    "# Create GT in networkx from the adjacency matrix\n",
    "gt = nx.DiGraph()\n",
    "for i in range(8):\n",
    "    for j in range(8):\n",
    "        if gt_adj[i,j] == 1:\n",
    "            gt.add_edge(i,j)\n",
    "\n",
    "# Rename the nodes\n",
    "gt = nx.relabel_nodes(gt, idx2node)\n",
    "\n",
    "# Display GT\n",
    "nx.draw(gt, with_labels=True)"
   ]
  },
  {
   "cell_type": "code",
   "execution_count": 64,
   "metadata": {},
   "outputs": [
    {
     "name": "stdout",
     "output_type": "stream",
     "text": [
      "  (0, 1)\t1\n",
      "  (0, 2)\t1\n",
      "  (1, 3)\t1\n",
      "  (2, 7)\t1\n",
      "  (3, 6)\t1\n",
      "  (3, 7)\t1\n",
      "  (4, 5)\t1\n",
      "  (5, 3)\t1\n",
      "[[0. 1. 0. 0. 0. 0. 1. 0.]\n",
      " [0. 0. 0. 0. 1. 0. 0. 0.]\n",
      " [0. 0. 0. 1. 0. 0. 0. 0.]\n",
      " [0. 0. 0. 0. 1. 0. 0. 0.]\n",
      " [0. 0. 0. 0. 0. 1. 0. 1.]\n",
      " [0. 0. 0. 0. 0. 0. 0. 0.]\n",
      " [0. 0. 0. 0. 0. 0. 0. 1.]\n",
      " [0. 0. 0. 0. 0. 0. 0. 0.]]\n"
     ]
    }
   ],
   "source": [
    "# Print GT adjacency matrix in networkx\n",
    "print(nx.adjacency_matrix(gt))\n",
    "\n",
    "# Create adjacency matrix from nx graph\n",
    "adj_matrix = nx.to_numpy_matrix(gt, nodelist=data.columns)\n",
    "\n",
    "# Print adjacency matrix\n",
    "print(adj_matrix)\n",
    "\n",
    "model = BayesianNetwork(list(gt.edges()))\n"
   ]
  },
  {
   "cell_type": "code",
   "execution_count": 65,
   "metadata": {},
   "outputs": [
    {
     "data": {
      "text/plain": [
       "OutEdgeView([('S', 'L'), ('S', 'B'), ('L', 'E'), ('B', 'D'), ('E', 'X'), ('E', 'D'), ('A', 'T'), ('T', 'E')])"
      ]
     },
     "execution_count": 65,
     "metadata": {},
     "output_type": "execute_result"
    }
   ],
   "source": [
    "model.edges"
   ]
  },
  {
   "cell_type": "code",
   "execution_count": 66,
   "metadata": {},
   "outputs": [
    {
     "data": {
      "text/plain": [
       "NodeView(('S', 'L', 'B', 'E', 'A', 'T', 'X', 'D'))"
      ]
     },
     "execution_count": 66,
     "metadata": {},
     "output_type": "execute_result"
    }
   ],
   "source": [
    "gt.nodes()"
   ]
  },
  {
   "cell_type": "code",
   "execution_count": 67,
   "metadata": {},
   "outputs": [
    {
     "name": "stdout",
     "output_type": "stream",
     "text": [
      "('S', 'L')\n",
      "('S', 'B')\n",
      "('L', 'E')\n",
      "('B', 'D')\n",
      "('E', 'X')\n",
      "('E', 'D')\n",
      "('A', 'T')\n",
      "('T', 'E')\n"
     ]
    }
   ],
   "source": [
    "for e in gt.edges():\n",
    "    print(e)"
   ]
  },
  {
   "cell_type": "code",
   "execution_count": 68,
   "metadata": {},
   "outputs": [],
   "source": [
    "bn = BayesianNetwork()\n",
    "for e in gt.edges():\n",
    "    bn.add_edge(e[0], e[1])"
   ]
  },
  {
   "cell_type": "code",
   "execution_count": 69,
   "metadata": {},
   "outputs": [
    {
     "data": {
      "text/plain": [
       "2265.7178564590577"
      ]
     },
     "execution_count": 69,
     "metadata": {},
     "output_type": "execute_result"
    }
   ],
   "source": [
    "np.abs(structure_score(model, data, scoring_method=\"bic\"))"
   ]
  },
  {
   "cell_type": "code",
   "execution_count": 70,
   "metadata": {},
   "outputs": [
    {
     "data": {
      "text/plain": [
       "array([[0., 1., 0., 0., 0., 0., 1., 0.],\n",
       "       [0., 0., 0., 0., 1., 0., 0., 0.],\n",
       "       [0., 0., 0., 1., 0., 0., 0., 0.],\n",
       "       [0., 0., 0., 0., 1., 0., 0., 0.],\n",
       "       [0., 0., 0., 0., 0., 1., 0., 1.],\n",
       "       [0., 0., 0., 0., 0., 0., 0., 0.],\n",
       "       [0., 0., 0., 0., 0., 0., 0., 1.],\n",
       "       [0., 0., 0., 0., 0., 0., 0., 0.]])"
      ]
     },
     "execution_count": 70,
     "metadata": {},
     "output_type": "execute_result"
    }
   ],
   "source": [
    "gt_adj"
   ]
  },
  {
   "cell_type": "code",
   "execution_count": 71,
   "metadata": {},
   "outputs": [
    {
     "name": "stdout",
     "output_type": "stream",
     "text": [
      "GT BIC:  2265.7178564590577\n"
     ]
    }
   ],
   "source": [
    "gt_bic = BIC(gt, data)\n",
    "print(\"GT BIC: \", gt_bic)"
   ]
  },
  {
   "cell_type": "code",
   "execution_count": 72,
   "metadata": {},
   "outputs": [
    {
     "data": {
      "image/png": "[encoded data removed]",
      "text/plain": [
       "<Figure size 432x288 with 1 Axes>"
      ]
     },
     "metadata": {},
     "output_type": "display_data"
    }
   ],
   "source": [
    "# Create GT in pgmpy\n",
    "gt_pgmpy = BayesianNetwork()\n",
    "gt_pgmpy.add_edges_from(gt_edges)\n",
    "\n",
    "# Display GT\n",
    "nx.draw(gt_pgmpy, with_labels=True)\n"
   ]
  },
  {
   "cell_type": "code",
   "execution_count": 9,
   "metadata": {},
   "outputs": [
    {
     "data": {
      "text/plain": [
       "22295.7456614326"
      ]
     },
     "execution_count": 9,
     "metadata": {},
     "output_type": "execute_result"
    }
   ],
   "source": [
    "np.abs(structure_score(gt_pgmpy, data, scoring_method=\"bic\"))"
   ]
  },
  {
   "cell_type": "code",
   "execution_count": 2,
   "metadata": {},
   "outputs": [],
   "source": [
    "def load_alarm_data(path = '../data/alarm10K.csv'):\n",
    "    '''\n",
    "    Loads the Alarm dataset.\n",
    "    \n",
    "    Parameters:\n",
    "    -----------\n",
    "    path : str\n",
    "        Path to the Alarm dataset.\n",
    "    \n",
    "    Returns:\n",
    "    --------\n",
    "    pandas.DataFrame\n",
    "        The dataset.\n",
    "    '''\n",
    "    data = pd.read_csv(path)\n",
    "    data.rename(columns={\n",
    "        'HISTORY': 'H',\n",
    "        'CVP': 'C',\n",
    "        'PCWP': 'P',\n",
    "        'HYPOVOLEMIA': 'V',\n",
    "        'LVEDVOLUME': 'L',\n",
    "        'LVFAILURE': 'F',\n",
    "        'STROKEVOLUME': 'S',\n",
    "        'ERRLOWOUTPUT': 'O',\n",
    "        'HRBP': 'R',\n",
    "        'HREKG': 'E',\n",
    "        'ERRCAUTER': 'A',\n",
    "        'HRSAT': 'T',\n",
    "        'INSUFFANESTH': 'I',\n",
    "        'ANAPHYLAXIS': 'X',\n",
    "        'TPR': 'Y',\n",
    "        'EXPCO2': 'Q',\n",
    "        'KINKEDTUBE': 'K',\n",
    "        'MINVOL': 'M',\n",
    "        'FIO2': 'F',\n",
    "        'PVSAT': 'V',\n",
    "        'SAO2': 'W',\n",
    "        'PAP': 'B',\n",
    "        'PULMEMBOLUS': 'U',\n",
    "        'SHUNT': 'Z'\n",
    "    }, inplace=True)\n",
    "\n",
    "    return data"
   ]
  },
  {
   "cell_type": "code",
   "execution_count": null,
   "metadata": {},
   "outputs": [],
   "source": [
    "def load_adult_data(path='../data/adult.csv'):\n",
    "    '''\n",
    "    Loads and processes the adult census income data.\n",
    "    \n",
    "    Parameters:\n",
    "    -----------\n",
    "    path : str, optional\n",
    "        Path to the adult census income data file.\n",
    "\n",
    "    Returns:\n",
    "    --------\n",
    "    pandas.DataFrame\n",
    "        The processed dataset.\n",
    "    '''\n",
    "    # Load the data\n",
    "    data = pd.read_csv(path)\n",
    "    df = data.rename(columns={\n",
    "    'Age': 'A',\n",
    "    ' workclass': 'W',\n",
    "    ' fnlwgt': 'F',\n",
    "    ' education': 'ED',\n",
    "    ' education-num': 'EDN',\n",
    "    ' marital-status': 'M',\n",
    "    ' occupation': 'O',\n",
    "    ' relationship': 'R',\n",
    "    ' race': 'RA',\n",
    "    ' sex': 'S',\n",
    "    ' capital-gain': 'CG',\n",
    "    ' capital-loss': 'CL',\n",
    "    ' hours-per-week': 'H',\n",
    "    ' native-country': 'C',\n",
    "    ' class': 'I'\n",
    "    })\n",
    "\n",
    "    # Create bins for the continuous variables\n",
    "    df['A'] = pd.cut(df['A'],     bins=5, labels=False)\n",
    "    df['F'] = pd.cut(df['F'],     bins=5, labels=False)\n",
    "    df['EDN'] = pd.cut(df['EDN'], bins=5, labels=False)\n",
    "    df['CG'] = pd.cut(df['CG'],   bins=5, labels=False)\n",
    "    df['CL'] = pd.cut(df['CL'],   bins=5, labels=False)\n",
    "    df['H'] = pd.cut(df['H'],     bins=5, labels=False)\n",
    "\n",
    "    # Process the categorical variables\n",
    "    df['W'] = df['W'].astype('category').cat.codes\n",
    "    df['ED'] = df['ED'].astype('category').cat.codes\n",
    "    df['M'] = df['M'].astype('category').cat.codes\n",
    "    df['O'] = df['O'].astype('category').cat.codes\n",
    "    df['R'] = df['R'].astype('category').cat.codes\n",
    "    df['RA'] = df['RA'].astype('category').cat.codes\n",
    "    df['S'] = df['S'].astype('category').cat.codes\n",
    "    df['C'] = df['C'].astype('category').cat.codes\n",
    "    df['I'] = df['I'].astype('category').cat.codes\n",
    "    \n",
    "    return df\n"
   ]
  },
  {
   "cell_type": "code",
   "execution_count": 23,
   "metadata": {},
   "outputs": [],
   "source": [
    "df = pd.read_csv('../data/adult.csv')"
   ]
  },
  {
   "cell_type": "code",
   "execution_count": 24,
   "metadata": {},
   "outputs": [
    {
     "data": {
      "text/html": [
       "<div>\n",
       "<style scoped>\n",
       "    .dataframe tbody tr th:only-of-type {\n",
       "        vertical-align: middle;\n",
       "    }\n",
       "\n",
       "    .dataframe tbody tr th {\n",
       "        vertical-align: top;\n",
       "    }\n",
       "\n",
       "    .dataframe thead th {\n",
       "        text-align: right;\n",
       "    }\n",
       "</style>\n",
       "<table border=\"1\" class=\"dataframe\">\n",
       "  <thead>\n",
       "    <tr style=\"text-align: right;\">\n",
       "      <th></th>\n",
       "      <th>Age</th>\n",
       "      <th>workclass</th>\n",
       "      <th>fnlwgt</th>\n",
       "      <th>education</th>\n",
       "      <th>education-num</th>\n",
       "      <th>marital-status</th>\n",
       "      <th>occupation</th>\n",
       "      <th>relationship</th>\n",
       "      <th>race</th>\n",
       "      <th>sex</th>\n",
       "      <th>capital-gain</th>\n",
       "      <th>capital-loss</th>\n",
       "      <th>hours-per-week</th>\n",
       "      <th>native-country</th>\n",
       "      <th>class</th>\n",
       "    </tr>\n",
       "  </thead>\n",
       "  <tbody>\n",
       "    <tr>\n",
       "      <th>0</th>\n",
       "      <td>39</td>\n",
       "      <td>State-gov</td>\n",
       "      <td>77516</td>\n",
       "      <td>Bachelors</td>\n",
       "      <td>13</td>\n",
       "      <td>Never-married</td>\n",
       "      <td>Adm-clerical</td>\n",
       "      <td>Not-in-family</td>\n",
       "      <td>White</td>\n",
       "      <td>Male</td>\n",
       "      <td>2174</td>\n",
       "      <td>0</td>\n",
       "      <td>40</td>\n",
       "      <td>United-States</td>\n",
       "      <td>&lt;=50K</td>\n",
       "    </tr>\n",
       "    <tr>\n",
       "      <th>1</th>\n",
       "      <td>50</td>\n",
       "      <td>Self-emp-not-inc</td>\n",
       "      <td>83311</td>\n",
       "      <td>Bachelors</td>\n",
       "      <td>13</td>\n",
       "      <td>Married-civ-spouse</td>\n",
       "      <td>Exec-managerial</td>\n",
       "      <td>Husband</td>\n",
       "      <td>White</td>\n",
       "      <td>Male</td>\n",
       "      <td>0</td>\n",
       "      <td>0</td>\n",
       "      <td>13</td>\n",
       "      <td>United-States</td>\n",
       "      <td>&lt;=50K</td>\n",
       "    </tr>\n",
       "    <tr>\n",
       "      <th>2</th>\n",
       "      <td>38</td>\n",
       "      <td>Private</td>\n",
       "      <td>215646</td>\n",
       "      <td>HS-grad</td>\n",
       "      <td>9</td>\n",
       "      <td>Divorced</td>\n",
       "      <td>Handlers-cleaners</td>\n",
       "      <td>Not-in-family</td>\n",
       "      <td>White</td>\n",
       "      <td>Male</td>\n",
       "      <td>0</td>\n",
       "      <td>0</td>\n",
       "      <td>40</td>\n",
       "      <td>United-States</td>\n",
       "      <td>&lt;=50K</td>\n",
       "    </tr>\n",
       "    <tr>\n",
       "      <th>3</th>\n",
       "      <td>53</td>\n",
       "      <td>Private</td>\n",
       "      <td>234721</td>\n",
       "      <td>11th</td>\n",
       "      <td>7</td>\n",
       "      <td>Married-civ-spouse</td>\n",
       "      <td>Handlers-cleaners</td>\n",
       "      <td>Husband</td>\n",
       "      <td>Black</td>\n",
       "      <td>Male</td>\n",
       "      <td>0</td>\n",
       "      <td>0</td>\n",
       "      <td>40</td>\n",
       "      <td>United-States</td>\n",
       "      <td>&lt;=50K</td>\n",
       "    </tr>\n",
       "    <tr>\n",
       "      <th>4</th>\n",
       "      <td>28</td>\n",
       "      <td>Private</td>\n",
       "      <td>338409</td>\n",
       "      <td>Bachelors</td>\n",
       "      <td>13</td>\n",
       "      <td>Married-civ-spouse</td>\n",
       "      <td>Prof-specialty</td>\n",
       "      <td>Wife</td>\n",
       "      <td>Black</td>\n",
       "      <td>Female</td>\n",
       "      <td>0</td>\n",
       "      <td>0</td>\n",
       "      <td>40</td>\n",
       "      <td>Cuba</td>\n",
       "      <td>&lt;=50K</td>\n",
       "    </tr>\n",
       "  </tbody>\n",
       "</table>\n",
       "</div>"
      ],
      "text/plain": [
       "   Age          workclass   fnlwgt   education   education-num  \\\n",
       "0   39          State-gov    77516   Bachelors              13   \n",
       "1   50   Self-emp-not-inc    83311   Bachelors              13   \n",
       "2   38            Private   215646     HS-grad               9   \n",
       "3   53            Private   234721        11th               7   \n",
       "4   28            Private   338409   Bachelors              13   \n",
       "\n",
       "        marital-status          occupation    relationship    race      sex  \\\n",
       "0        Never-married        Adm-clerical   Not-in-family   White     Male   \n",
       "1   Married-civ-spouse     Exec-managerial         Husband   White     Male   \n",
       "2             Divorced   Handlers-cleaners   Not-in-family   White     Male   \n",
       "3   Married-civ-spouse   Handlers-cleaners         Husband   Black     Male   \n",
       "4   Married-civ-spouse      Prof-specialty            Wife   Black   Female   \n",
       "\n",
       "    capital-gain   capital-loss   hours-per-week  native-country   class  \n",
       "0           2174              0               40   United-States   <=50K  \n",
       "1              0              0               13   United-States   <=50K  \n",
       "2              0              0               40   United-States   <=50K  \n",
       "3              0              0               40   United-States   <=50K  \n",
       "4              0              0               40            Cuba   <=50K  "
      ]
     },
     "execution_count": 24,
     "metadata": {},
     "output_type": "execute_result"
    }
   ],
   "source": [
    "df.head()"
   ]
  },
  {
   "cell_type": "code",
   "execution_count": 25,
   "metadata": {},
   "outputs": [],
   "source": [
    "# Rename columns\n",
    "df = df.rename(columns={\n",
    "    'Age': 'A',\n",
    "    ' workclass': 'W',\n",
    "    ' fnlwgt': 'F',\n",
    "    ' education': 'ED',\n",
    "    ' education-num': 'EDN',\n",
    "    ' marital-status': 'M',\n",
    "    ' occupation': 'O',\n",
    "    ' relationship': 'R',\n",
    "    ' race': 'RA',\n",
    "    ' sex': 'S',\n",
    "    ' capital-gain': 'CG',\n",
    "    ' capital-loss': 'CL',\n",
    "    ' hours-per-week': 'H',\n",
    "    ' native-country': 'C',\n",
    "    ' class': 'I'\n",
    "})"
   ]
  },
  {
   "cell_type": "code",
   "execution_count": null,
   "metadata": {},
   "outputs": [],
   "source": []
  },
  {
   "cell_type": "code",
   "execution_count": 26,
   "metadata": {},
   "outputs": [
    {
     "data": {
      "text/html": [
       "<div>\n",
       "<style scoped>\n",
       "    .dataframe tbody tr th:only-of-type {\n",
       "        vertical-align: middle;\n",
       "    }\n",
       "\n",
       "    .dataframe tbody tr th {\n",
       "        vertical-align: top;\n",
       "    }\n",
       "\n",
       "    .dataframe thead th {\n",
       "        text-align: right;\n",
       "    }\n",
       "</style>\n",
       "<table border=\"1\" class=\"dataframe\">\n",
       "  <thead>\n",
       "    <tr style=\"text-align: right;\">\n",
       "      <th></th>\n",
       "      <th>A</th>\n",
       "      <th>W</th>\n",
       "      <th>F</th>\n",
       "      <th>ED</th>\n",
       "      <th>EDN</th>\n",
       "      <th>M</th>\n",
       "      <th>O</th>\n",
       "      <th>R</th>\n",
       "      <th>RA</th>\n",
       "      <th>S</th>\n",
       "      <th>CG</th>\n",
       "      <th>CL</th>\n",
       "      <th>H</th>\n",
       "      <th>C</th>\n",
       "      <th>I</th>\n",
       "    </tr>\n",
       "  </thead>\n",
       "  <tbody>\n",
       "    <tr>\n",
       "      <th>0</th>\n",
       "      <td>39</td>\n",
       "      <td>State-gov</td>\n",
       "      <td>77516</td>\n",
       "      <td>Bachelors</td>\n",
       "      <td>13</td>\n",
       "      <td>Never-married</td>\n",
       "      <td>Adm-clerical</td>\n",
       "      <td>Not-in-family</td>\n",
       "      <td>White</td>\n",
       "      <td>Male</td>\n",
       "      <td>2174</td>\n",
       "      <td>0</td>\n",
       "      <td>40</td>\n",
       "      <td>United-States</td>\n",
       "      <td>&lt;=50K</td>\n",
       "    </tr>\n",
       "    <tr>\n",
       "      <th>1</th>\n",
       "      <td>50</td>\n",
       "      <td>Self-emp-not-inc</td>\n",
       "      <td>83311</td>\n",
       "      <td>Bachelors</td>\n",
       "      <td>13</td>\n",
       "      <td>Married-civ-spouse</td>\n",
       "      <td>Exec-managerial</td>\n",
       "      <td>Husband</td>\n",
       "      <td>White</td>\n",
       "      <td>Male</td>\n",
       "      <td>0</td>\n",
       "      <td>0</td>\n",
       "      <td>13</td>\n",
       "      <td>United-States</td>\n",
       "      <td>&lt;=50K</td>\n",
       "    </tr>\n",
       "    <tr>\n",
       "      <th>2</th>\n",
       "      <td>38</td>\n",
       "      <td>Private</td>\n",
       "      <td>215646</td>\n",
       "      <td>HS-grad</td>\n",
       "      <td>9</td>\n",
       "      <td>Divorced</td>\n",
       "      <td>Handlers-cleaners</td>\n",
       "      <td>Not-in-family</td>\n",
       "      <td>White</td>\n",
       "      <td>Male</td>\n",
       "      <td>0</td>\n",
       "      <td>0</td>\n",
       "      <td>40</td>\n",
       "      <td>United-States</td>\n",
       "      <td>&lt;=50K</td>\n",
       "    </tr>\n",
       "    <tr>\n",
       "      <th>3</th>\n",
       "      <td>53</td>\n",
       "      <td>Private</td>\n",
       "      <td>234721</td>\n",
       "      <td>11th</td>\n",
       "      <td>7</td>\n",
       "      <td>Married-civ-spouse</td>\n",
       "      <td>Handlers-cleaners</td>\n",
       "      <td>Husband</td>\n",
       "      <td>Black</td>\n",
       "      <td>Male</td>\n",
       "      <td>0</td>\n",
       "      <td>0</td>\n",
       "      <td>40</td>\n",
       "      <td>United-States</td>\n",
       "      <td>&lt;=50K</td>\n",
       "    </tr>\n",
       "    <tr>\n",
       "      <th>4</th>\n",
       "      <td>28</td>\n",
       "      <td>Private</td>\n",
       "      <td>338409</td>\n",
       "      <td>Bachelors</td>\n",
       "      <td>13</td>\n",
       "      <td>Married-civ-spouse</td>\n",
       "      <td>Prof-specialty</td>\n",
       "      <td>Wife</td>\n",
       "      <td>Black</td>\n",
       "      <td>Female</td>\n",
       "      <td>0</td>\n",
       "      <td>0</td>\n",
       "      <td>40</td>\n",
       "      <td>Cuba</td>\n",
       "      <td>&lt;=50K</td>\n",
       "    </tr>\n",
       "  </tbody>\n",
       "</table>\n",
       "</div>"
      ],
      "text/plain": [
       "    A                  W       F          ED  EDN                    M  \\\n",
       "0  39          State-gov   77516   Bachelors   13        Never-married   \n",
       "1  50   Self-emp-not-inc   83311   Bachelors   13   Married-civ-spouse   \n",
       "2  38            Private  215646     HS-grad    9             Divorced   \n",
       "3  53            Private  234721        11th    7   Married-civ-spouse   \n",
       "4  28            Private  338409   Bachelors   13   Married-civ-spouse   \n",
       "\n",
       "                    O               R      RA        S    CG  CL   H  \\\n",
       "0        Adm-clerical   Not-in-family   White     Male  2174   0  40   \n",
       "1     Exec-managerial         Husband   White     Male     0   0  13   \n",
       "2   Handlers-cleaners   Not-in-family   White     Male     0   0  40   \n",
       "3   Handlers-cleaners         Husband   Black     Male     0   0  40   \n",
       "4      Prof-specialty            Wife   Black   Female     0   0  40   \n",
       "\n",
       "                C       I  \n",
       "0   United-States   <=50K  \n",
       "1   United-States   <=50K  \n",
       "2   United-States   <=50K  \n",
       "3   United-States   <=50K  \n",
       "4            Cuba   <=50K  "
      ]
     },
     "execution_count": 26,
     "metadata": {},
     "output_type": "execute_result"
    }
   ],
   "source": [
    "df.head()"
   ]
  },
  {
   "cell_type": "code",
   "execution_count": 27,
   "metadata": {},
   "outputs": [],
   "source": [
    "# Create bins for the continuous variables\n",
    "df['A'] = pd.cut(df['A'],     bins=5, labels=False)\n",
    "df['F'] = pd.cut(df['F'],     bins=5, labels=False)\n",
    "df['EDN'] = pd.cut(df['EDN'], bins=5, labels=False)\n",
    "df['CG'] = pd.cut(df['CG'],   bins=5, labels=False)\n",
    "df['CL'] = pd.cut(df['CL'],   bins=5, labels=False)\n",
    "df['H'] = pd.cut(df['H'],     bins=5, labels=False)"
   ]
  },
  {
   "cell_type": "code",
   "execution_count": 28,
   "metadata": {},
   "outputs": [],
   "source": [
    "# Process the categorical variables\n",
    "df['W'] = df['W'].astype('category').cat.codes\n",
    "df['ED'] = df['ED'].astype('category').cat.codes\n",
    "df['M'] = df['M'].astype('category').cat.codes\n",
    "df['O'] = df['O'].astype('category').cat.codes\n",
    "df['R'] = df['R'].astype('category').cat.codes\n",
    "df['RA'] = df['RA'].astype('category').cat.codes\n",
    "df['S'] = df['S'].astype('category').cat.codes\n",
    "df['C'] = df['C'].astype('category').cat.codes\n",
    "df['I'] = df['I'].astype('category').cat.codes"
   ]
  },
  {
   "cell_type": "code",
   "execution_count": 29,
   "metadata": {},
   "outputs": [],
   "source": [
    "# Drop the columns F and EDN\n",
    "df = df.drop(columns=['F', 'EDN'])"
   ]
  },
  {
   "cell_type": "code",
   "execution_count": 30,
   "metadata": {},
   "outputs": [
    {
     "data": {
      "text/html": [
       "<div>\n",
       "<style scoped>\n",
       "    .dataframe tbody tr th:only-of-type {\n",
       "        vertical-align: middle;\n",
       "    }\n",
       "\n",
       "    .dataframe tbody tr th {\n",
       "        vertical-align: top;\n",
       "    }\n",
       "\n",
       "    .dataframe thead th {\n",
       "        text-align: right;\n",
       "    }\n",
       "</style>\n",
       "<table border=\"1\" class=\"dataframe\">\n",
       "  <thead>\n",
       "    <tr style=\"text-align: right;\">\n",
       "      <th></th>\n",
       "      <th>A</th>\n",
       "      <th>W</th>\n",
       "      <th>ED</th>\n",
       "      <th>M</th>\n",
       "      <th>O</th>\n",
       "      <th>R</th>\n",
       "      <th>RA</th>\n",
       "      <th>S</th>\n",
       "      <th>CG</th>\n",
       "      <th>CL</th>\n",
       "      <th>H</th>\n",
       "      <th>C</th>\n",
       "      <th>I</th>\n",
       "    </tr>\n",
       "  </thead>\n",
       "  <tbody>\n",
       "    <tr>\n",
       "      <th>0</th>\n",
       "      <td>1</td>\n",
       "      <td>6</td>\n",
       "      <td>9</td>\n",
       "      <td>4</td>\n",
       "      <td>0</td>\n",
       "      <td>1</td>\n",
       "      <td>4</td>\n",
       "      <td>1</td>\n",
       "      <td>0</td>\n",
       "      <td>0</td>\n",
       "      <td>1</td>\n",
       "      <td>38</td>\n",
       "      <td>0</td>\n",
       "    </tr>\n",
       "    <tr>\n",
       "      <th>1</th>\n",
       "      <td>2</td>\n",
       "      <td>5</td>\n",
       "      <td>9</td>\n",
       "      <td>2</td>\n",
       "      <td>3</td>\n",
       "      <td>0</td>\n",
       "      <td>4</td>\n",
       "      <td>1</td>\n",
       "      <td>0</td>\n",
       "      <td>0</td>\n",
       "      <td>0</td>\n",
       "      <td>38</td>\n",
       "      <td>0</td>\n",
       "    </tr>\n",
       "    <tr>\n",
       "      <th>2</th>\n",
       "      <td>1</td>\n",
       "      <td>3</td>\n",
       "      <td>11</td>\n",
       "      <td>0</td>\n",
       "      <td>5</td>\n",
       "      <td>1</td>\n",
       "      <td>4</td>\n",
       "      <td>1</td>\n",
       "      <td>0</td>\n",
       "      <td>0</td>\n",
       "      <td>1</td>\n",
       "      <td>38</td>\n",
       "      <td>0</td>\n",
       "    </tr>\n",
       "    <tr>\n",
       "      <th>3</th>\n",
       "      <td>2</td>\n",
       "      <td>3</td>\n",
       "      <td>1</td>\n",
       "      <td>2</td>\n",
       "      <td>5</td>\n",
       "      <td>0</td>\n",
       "      <td>2</td>\n",
       "      <td>1</td>\n",
       "      <td>0</td>\n",
       "      <td>0</td>\n",
       "      <td>1</td>\n",
       "      <td>38</td>\n",
       "      <td>0</td>\n",
       "    </tr>\n",
       "    <tr>\n",
       "      <th>4</th>\n",
       "      <td>0</td>\n",
       "      <td>3</td>\n",
       "      <td>9</td>\n",
       "      <td>2</td>\n",
       "      <td>9</td>\n",
       "      <td>5</td>\n",
       "      <td>2</td>\n",
       "      <td>0</td>\n",
       "      <td>0</td>\n",
       "      <td>0</td>\n",
       "      <td>1</td>\n",
       "      <td>4</td>\n",
       "      <td>0</td>\n",
       "    </tr>\n",
       "  </tbody>\n",
       "</table>\n",
       "</div>"
      ],
      "text/plain": [
       "   A  W  ED  M  O  R  RA  S  CG  CL  H   C  I\n",
       "0  1  6   9  4  0  1   4  1   0   0  1  38  0\n",
       "1  2  5   9  2  3  0   4  1   0   0  0  38  0\n",
       "2  1  3  11  0  5  1   4  1   0   0  1  38  0\n",
       "3  2  3   1  2  5  0   2  1   0   0  1  38  0\n",
       "4  0  3   9  2  9  5   2  0   0   0  1   4  0"
      ]
     },
     "execution_count": 30,
     "metadata": {},
     "output_type": "execute_result"
    }
   ],
   "source": [
    "df.head()"
   ]
  },
  {
   "cell_type": "code",
   "execution_count": 31,
   "metadata": {},
   "outputs": [
    {
     "data": {
      "text/plain": [
       "1    12211\n",
       "0    11460\n",
       "2     6558\n",
       "3     2091\n",
       "4      241\n",
       "Name: A, dtype: int64"
      ]
     },
     "execution_count": 31,
     "metadata": {},
     "output_type": "execute_result"
    }
   ],
   "source": [
    "df.A.value_counts()"
   ]
  },
  {
   "cell_type": "code",
   "execution_count": 32,
   "metadata": {},
   "outputs": [],
   "source": [
    "d = df.shape[1]\n",
    "node2idx = {}\n",
    "for i, node in enumerate(df.columns):\n",
    "    node2idx[node] = i\n",
    "\n",
    "idx2node = {}\n",
    "for i, node in enumerate(df.columns):\n",
    "    idx2node[i] = node\n",
    "\n",
    "idx2node\n",
    "\n",
    "variables = list(df.columns)\n",
    "\n",
    "var2num = {}\n",
    "for var, num in zip(variables, range(d)):\n",
    "    var2num[var] = num\n",
    "    \n",
    "num2var = {value: key for key, value in var2num.items()}"
   ]
  },
  {
   "cell_type": "code",
   "execution_count": 33,
   "metadata": {},
   "outputs": [
    {
     "data": {
      "text/plain": [
       "['A', 'W', 'ED', 'M', 'O', 'R', 'RA', 'S', 'CG', 'CL', 'H', 'C', 'I']"
      ]
     },
     "execution_count": 33,
     "metadata": {},
     "output_type": "execute_result"
    }
   ],
   "source": [
    "# Create a random DAG for the adult dataset\n",
    "variables"
   ]
  },
  {
   "cell_type": "code",
   "execution_count": 34,
   "metadata": {},
   "outputs": [
    {
     "data": {
      "text/plain": [
       "13"
      ]
     },
     "execution_count": 34,
     "metadata": {},
     "output_type": "execute_result"
    }
   ],
   "source": [
    "len(variables)"
   ]
  },
  {
   "cell_type": "code",
   "execution_count": 35,
   "metadata": {},
   "outputs": [
    {
     "data": {
      "image/png": "[encoded data removed]",
      "text/plain": [
       "<Figure size 432x288 with 1 Axes>"
      ]
     },
     "metadata": {},
     "output_type": "display_data"
    }
   ],
   "source": [
    "G = createPopulation(1, variables, density_factor=0.1, feasible_only=True)[0]"
   ]
  },
  {
   "cell_type": "code",
   "execution_count": 36,
   "metadata": {},
   "outputs": [
    {
     "data": {
      "text/plain": [
       "699258.0495799461"
      ]
     },
     "execution_count": 36,
     "metadata": {},
     "output_type": "execute_result"
    }
   ],
   "source": [
    "# Compute BIC score for the random graph\n",
    "BIC(G, df)"
   ]
  },
  {
   "cell_type": "code",
   "execution_count": 38,
   "metadata": {},
   "outputs": [],
   "source": [
    "# Create ground truth graph\n",
    "gt = nx.DiGraph()\n",
    "gt.add_edges_from([['S', 'O'],\n",
    "                  ['S', 'H'],\n",
    "                  ['S', 'R'],\n",
    "                  ['S', 'ED'],\n",
    "                  ['S', 'RA'],\n",
    "                  ['R', 'I'],\n",
    "                  ['R', 'CL'],\n",
    "                  ['R', 'CG'],\n",
    "                  ['R', 'H'],\n",
    "                  ['R', 'W'],\n",
    "                  ['R', 'A'],\n",
    "                  ['R', 'M'],\n",
    "                  ['R', 'RA'],\n",
    "                  ['A', 'H'],\n",
    "                  ['A', 'O'],\n",
    "                  ['A', 'W'],\n",
    "                  ['A', 'ED'],\n",
    "                  ['A', 'M'],\n",
    "                  ['A', 'NC'],\n",
    "                  ['A', 'RA'],\n",
    "                  ['A', 'I'],\n",
    "                  ['H','O'],\n",
    "                  ['H','W'],\n",
    "                  ['W', 'O'],\n",
    "                  ['W', 'ED'],\n",
    "                  ['W', 'NC'],\n",
    "                  ['O','CL'],\n",
    "                  ['O','CG'],\n",
    "                  ['O','I'],\n",
    "                  ['O','ED'],\n",
    "                  ['ED','CG'],\n",
    "                  ['ED','I'],\n",
    "                  ['ED','RA'],\n",
    "                  ['ED','NC'],\n",
    "                  ['CG', 'CL'],\n",
    "                  ['CG', 'I'],\n",
    "                  ['NC','M'],\n",
    "                  ['NC', 'RA'],\n",
    "                  ['CL', 'I']]\n",
    "                  )"
   ]
  },
  {
   "cell_type": "code",
   "execution_count": 40,
   "metadata": {},
   "outputs": [
    {
     "data": {
      "image/png": "[encoded data removed]",
      "text/plain": [
       "<Figure size 432x288 with 1 Axes>"
      ]
     },
     "metadata": {},
     "output_type": "display_data"
    }
   ],
   "source": [
    "# Draw the ground truth graph\n",
    "nx.draw(gt, with_labels=True)\n"
   ]
  },
  {
   "cell_type": "code",
   "execution_count": null,
   "metadata": {},
   "outputs": [],
   "source": []
  }
 ],
 "metadata": {
  "kernelspec": {
   "display_name": "base",
   "language": "python",
   "name": "python3"
  },
  "language_info": {
   "codemirror_mode": {
    "name": "ipython",
    "version": 3
   },
   "file_extension": ".py",
   "mimetype": "text/x-python",
   "name": "python",
   "nbconvert_exporter": "python",
   "pygments_lexer": "ipython3",
   "version": "3.7.6"
  }
 },
 "nbformat": 4,
 "nbformat_minor": 2
}
