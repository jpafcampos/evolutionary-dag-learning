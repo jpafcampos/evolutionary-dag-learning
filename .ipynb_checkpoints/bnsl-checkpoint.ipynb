{
 "cells": [
  {
   "cell_type": "code",
   "execution_count": 1,
   "id": "8eb68778",
   "metadata": {
    "scrolled": true
   },
   "outputs": [],
   "source": [
    "import numpy as np\n",
    "import networkx as nx\n",
    "import matplotlib.pyplot as plt\n",
    "import pandas as pd\n",
    "from itertools import combinations\n",
    "import random\n",
    "from pgmpy.metrics import structure_score\n",
    "from pgmpy.models import BayesianNetwork\n",
    "import scipy.linalg as slin\n",
    "from scipy.linalg import det\n",
    "from scipy import linalg\n",
    "import igraph as ig\n",
    "from pgmpy.models import MarkovNetwork\n",
    "from pgmpy.factors.discrete import DiscreteFactor\n",
    "import networkx as nx \n",
    "import bnlearn as bn"
   ]
  },
  {
   "cell_type": "code",
   "execution_count": 2,
   "id": "b4096a6d",
   "metadata": {
    "scrolled": true
   },
   "outputs": [
    {
     "data": {
      "text/plain": [
       "0.4942482196279716"
      ]
     },
     "execution_count": 2,
     "metadata": {},
     "output_type": "execute_result"
    }
   ],
   "source": [
    "random.random()"
   ]
  },
  {
   "cell_type": "markdown",
   "id": "a0305d70",
   "metadata": {},
   "source": [
    "## Data"
   ]
  },
  {
   "cell_type": "code",
   "execution_count": 3,
   "id": "316085a7",
   "metadata": {
    "scrolled": true
   },
   "outputs": [],
   "source": [
    "data = pd.read_csv(\"./data/asia10K.csv\")"
   ]
  },
  {
   "cell_type": "code",
   "execution_count": 4,
   "id": "e1447acc",
   "metadata": {},
   "outputs": [],
   "source": [
    "d = data.shape[1]"
   ]
  },
  {
   "cell_type": "code",
   "execution_count": 5,
   "id": "d2db2ffe",
   "metadata": {
    "scrolled": true
   },
   "outputs": [],
   "source": [
    "data = data.replace({'yes': 1, 'no': 0})\n",
    "data.rename(columns={\n",
    "    'Smoker': 'S',\n",
    "    'LungCancer': 'L',\n",
    "    'VisitToAsia': 'A',\n",
    "    'Tuberculosis': 'T',\n",
    "    'TuberculosisOrCancer': 'E',\n",
    "    'X-ray': 'X',\n",
    "    'Bronchitis': 'B',\n",
    "    'Dyspnea': 'D'\n",
    "}, inplace=True)"
   ]
  },
  {
   "cell_type": "code",
   "execution_count": 6,
   "id": "1a99a7ca",
   "metadata": {
    "scrolled": true
   },
   "outputs": [],
   "source": [
    "variables = list(data.columns)"
   ]
  },
  {
   "cell_type": "code",
   "execution_count": 7,
   "id": "59e24da4",
   "metadata": {},
   "outputs": [],
   "source": [
    "var2num = {}\n",
    "for var, num in zip(variables, range(d)):\n",
    "    var2num[var] = num\n",
    "    \n",
    "num2var = {value: key for key, value in var2num.items()}"
   ]
  },
  {
   "cell_type": "code",
   "execution_count": 8,
   "id": "ee893139",
   "metadata": {
    "scrolled": true
   },
   "outputs": [
    {
     "data": {
      "text/html": [
       "<div>\n",
       "<style scoped>\n",
       "    .dataframe tbody tr th:only-of-type {\n",
       "        vertical-align: middle;\n",
       "    }\n",
       "\n",
       "    .dataframe tbody tr th {\n",
       "        vertical-align: top;\n",
       "    }\n",
       "\n",
       "    .dataframe thead th {\n",
       "        text-align: right;\n",
       "    }\n",
       "</style>\n",
       "<table border=\"1\" class=\"dataframe\">\n",
       "  <thead>\n",
       "    <tr style=\"text-align: right;\">\n",
       "      <th></th>\n",
       "      <th>S</th>\n",
       "      <th>L</th>\n",
       "      <th>A</th>\n",
       "      <th>T</th>\n",
       "      <th>E</th>\n",
       "      <th>X</th>\n",
       "      <th>B</th>\n",
       "      <th>D</th>\n",
       "    </tr>\n",
       "  </thead>\n",
       "  <tbody>\n",
       "    <tr>\n",
       "      <th>0</th>\n",
       "      <td>1</td>\n",
       "      <td>1</td>\n",
       "      <td>0</td>\n",
       "      <td>0</td>\n",
       "      <td>1</td>\n",
       "      <td>1</td>\n",
       "      <td>1</td>\n",
       "      <td>1</td>\n",
       "    </tr>\n",
       "    <tr>\n",
       "      <th>1</th>\n",
       "      <td>0</td>\n",
       "      <td>0</td>\n",
       "      <td>0</td>\n",
       "      <td>0</td>\n",
       "      <td>0</td>\n",
       "      <td>1</td>\n",
       "      <td>1</td>\n",
       "      <td>1</td>\n",
       "    </tr>\n",
       "    <tr>\n",
       "      <th>2</th>\n",
       "      <td>0</td>\n",
       "      <td>0</td>\n",
       "      <td>0</td>\n",
       "      <td>0</td>\n",
       "      <td>0</td>\n",
       "      <td>0</td>\n",
       "      <td>1</td>\n",
       "      <td>1</td>\n",
       "    </tr>\n",
       "    <tr>\n",
       "      <th>3</th>\n",
       "      <td>0</td>\n",
       "      <td>0</td>\n",
       "      <td>0</td>\n",
       "      <td>0</td>\n",
       "      <td>0</td>\n",
       "      <td>0</td>\n",
       "      <td>1</td>\n",
       "      <td>1</td>\n",
       "    </tr>\n",
       "    <tr>\n",
       "      <th>4</th>\n",
       "      <td>1</td>\n",
       "      <td>0</td>\n",
       "      <td>0</td>\n",
       "      <td>0</td>\n",
       "      <td>0</td>\n",
       "      <td>0</td>\n",
       "      <td>1</td>\n",
       "      <td>0</td>\n",
       "    </tr>\n",
       "  </tbody>\n",
       "</table>\n",
       "</div>"
      ],
      "text/plain": [
       "   S  L  A  T  E  X  B  D\n",
       "0  1  1  0  0  1  1  1  1\n",
       "1  0  0  0  0  0  1  1  1\n",
       "2  0  0  0  0  0  0  1  1\n",
       "3  0  0  0  0  0  0  1  1\n",
       "4  1  0  0  0  0  0  1  0"
      ]
     },
     "execution_count": 8,
     "metadata": {},
     "output_type": "execute_result"
    }
   ],
   "source": [
    "data.head()"
   ]
  },
  {
   "cell_type": "code",
   "execution_count": 9,
   "id": "1ba7a900",
   "metadata": {
    "scrolled": true
   },
   "outputs": [],
   "source": [
    "data = data.sample(1000)"
   ]
  },
  {
   "cell_type": "markdown",
   "id": "516b0e39",
   "metadata": {},
   "source": [
    "# LEMBRAR DE CALCULAR O BIC NO DATA INTEIRO\n",
    "\n",
    "USAR FUNCAO DO ITALLO PARA CALCULAR BIC DE GRAFOS NÃO CONECTADOS"
   ]
  },
  {
   "cell_type": "code",
   "execution_count": 10,
   "id": "8bbd0d88",
   "metadata": {
    "scrolled": true
   },
   "outputs": [],
   "source": [
    "# Generate all possible pairs of elements from the variables\n",
    "edges = list(combinations(variables, 2))\n",
    "\n",
    "num_edges = len(edges)\n",
    "\n",
    "# Create a dictionary with enumerated pairs\n",
    "edge2idx = {edge: index for index, edge in enumerate(edges)}\n",
    "idx2edge = {index: edge for index, edge in zip(edge2idx.values(), edge2idx.keys()) }"
   ]
  },
  {
   "cell_type": "code",
   "execution_count": 11,
   "id": "9bdc244b",
   "metadata": {
    "scrolled": true
   },
   "outputs": [],
   "source": [
    "gt = np.zeros([8,8])\n",
    "gt[0,1] = 1\n",
    "gt[0,6] = 1\n",
    "gt[1,4] = 1\n",
    "gt[2,3] = 1\n",
    "gt[3,4] = 1\n",
    "gt[4,5] = 1\n",
    "gt[4,7] = 1\n",
    "gt[6,7] = 1"
   ]
  },
  {
   "cell_type": "code",
   "execution_count": 12,
   "id": "f094ecd3",
   "metadata": {
    "scrolled": true
   },
   "outputs": [],
   "source": [
    "gt_vec = np.zeros(28)"
   ]
  },
  {
   "cell_type": "code",
   "execution_count": 13,
   "id": "b2617136",
   "metadata": {
    "scrolled": true
   },
   "outputs": [],
   "source": [
    "gt_edges = [('A', 'T'), ('T', 'E'), ('E', 'X'), ('E', 'D'), ('S', 'L'), ('S', 'B'), ('B', 'D'), ('L', 'E')]\n",
    "for edge in gt_edges:\n",
    "    if edge in edge2idx.keys():\n",
    "        gt_vec[edge2idx[edge]] = 1\n",
    "    else:\n",
    "        gt_vec[edge2idx[edge[::-1]]] = -1"
   ]
  },
  {
   "cell_type": "markdown",
   "id": "aecea248",
   "metadata": {},
   "source": [
    "## Useful Functions"
   ]
  },
  {
   "cell_type": "code",
   "execution_count": 14,
   "id": "0145111e",
   "metadata": {
    "scrolled": true
   },
   "outputs": [],
   "source": [
    "def draw_graph(G):\n",
    "    nx.draw_circular(\n",
    "        G, with_labels=True, arrowsize=30, node_size=300, alpha=0.9, font_weight=\"bold\"\n",
    "    )\n",
    "    plt.show()"
   ]
  },
  {
   "cell_type": "code",
   "execution_count": 15,
   "id": "97dea975",
   "metadata": {
    "scrolled": true
   },
   "outputs": [],
   "source": [
    "def drawDiGraph (DG):\n",
    "    nx.draw(\n",
    "        DG, with_labels=True, font_weight='bold',font_size=20,\n",
    "        arrowsize=20, node_color='y', pos=nx.spring_layout(DG)\n",
    "        )\n",
    "    \n",
    "def draw_adj(A):\n",
    "    DG = nx.DiGraph()\n",
    "    for i in range(A.shape[0]):\n",
    "        for j in range(A.shape[1]):\n",
    "            if A[i,j] != 0:\n",
    "                DG.add_edge(num2var[i], num2var[j])\n",
    "    drawDiGraph(DG)"
   ]
  },
  {
   "cell_type": "code",
   "execution_count": 16,
   "id": "15ba231f",
   "metadata": {
    "scrolled": true
   },
   "outputs": [],
   "source": [
    "# MINIMIZAR O MODULO DO BIC\n",
    "def bic(model, data):\n",
    "    return np.abs(structure_score(model, data, scoring_method=\"bic\"))"
   ]
  },
  {
   "cell_type": "code",
   "execution_count": 17,
   "id": "8bf8f611",
   "metadata": {
    "scrolled": true
   },
   "outputs": [],
   "source": [
    "def random_vector(length):\n",
    "    vector = np.array([random.choice([0, 1, -1]) for _ in range(length)]).astype(float)\n",
    "    return vector"
   ]
  },
  {
   "cell_type": "code",
   "execution_count": 18,
   "id": "1d834f59",
   "metadata": {
    "scrolled": true
   },
   "outputs": [],
   "source": [
    "def vec2markovNet(vector):\n",
    "    MN = MarkovNetwork()\n",
    "    for i in range(len(vector)):\n",
    "        if vector[i] > 0:\n",
    "            MN.add_edge(idx2edge[i][0], idx2edge[i][1])\n",
    "    return MN"
   ]
  },
  {
   "cell_type": "code",
   "execution_count": 19,
   "id": "a2635ba3",
   "metadata": {
    "scrolled": true
   },
   "outputs": [],
   "source": [
    "def vec2bayesNet(vector):\n",
    "    BN = BayesianNetwork()\n",
    "    for i in range(len(vector)):\n",
    "        if vector[i] > 0:\n",
    "            BN.add_edge(idx2edge[i][0], idx2edge[i][1])\n",
    "            \n",
    "        if vector[i] < 0:\n",
    "            BN.add_edge(idx2edge[i][1], idx2edge[i][0])\n",
    "            \n",
    "    return BN"
   ]
  },
  {
   "cell_type": "code",
   "execution_count": 20,
   "id": "1d81e718",
   "metadata": {
    "scrolled": true
   },
   "outputs": [],
   "source": [
    "def vector2DiGraph (vector):\n",
    "    DG = nx.DiGraph()\n",
    "    for i in range(len(vector)):\n",
    "        if vector[i] > 0:\n",
    "            DG.add_edge(idx2edge[i][0], idx2edge[i][1])\n",
    "            \n",
    "        if vector[i] < 0:\n",
    "            DG.add_edge(idx2edge[i][1], idx2edge[i][0])\n",
    "            \n",
    "    return DG"
   ]
  },
  {
   "cell_type": "code",
   "execution_count": 21,
   "id": "cbccb91f",
   "metadata": {
    "scrolled": true
   },
   "outputs": [],
   "source": [
    "def max_likelihood_objective(W, X):\n",
    "    # non equal variance\n",
    "    n, d = X.shape  # d is the number of variables, n is the number of samples\n",
    "\n",
    "    # Compute the first term of the objective\n",
    "    term1 = 0.0\n",
    "    for i in range(d):\n",
    "        inner_sum = 0.0\n",
    "        for k in range(n):\n",
    "            inner_sum += (X[i, k] - np.dot(W[i], X[:, k]))**2\n",
    "        term1 -= 0.5 * np.log(inner_sum)\n",
    "\n",
    "    # Compute the second term of the objective\n",
    "    term2 = np.log(np.abs(det(np.eye(d) - W)))\n",
    "\n",
    "    # Combine the terms to get the maximum likelihood objective\n",
    "    likelihood = term1 + term2\n",
    "\n",
    "    return likelihood"
   ]
  },
  {
   "cell_type": "code",
   "execution_count": 22,
   "id": "ecdbf091",
   "metadata": {
    "scrolled": true
   },
   "outputs": [],
   "source": [
    "def least_squares_objective(W, data, mean_zero = False):\n",
    "    X = data.values\n",
    "    # Zheng et al. NOTEARS\n",
    "    #if not mean_zero:\n",
    "    #    column_means = np.mean(X, axis=0)\n",
    "    #    X = X - column_means\n",
    "    \n",
    "    #Evaluate value and gradient of loss.\n",
    "    M = X @ W\n",
    "    R = X - M\n",
    "    loss = 0.5 / X.shape[0] * (R ** 2).sum()\n",
    "    G_loss = - 1.0 / X.shape[0] * X.T @ R\n",
    "    \n",
    "    return loss"
   ]
  },
  {
   "cell_type": "code",
   "execution_count": 23,
   "id": "f8e88d28",
   "metadata": {
    "scrolled": true
   },
   "outputs": [],
   "source": [
    "def fit_ls(ind, variables, idx2edge, data):\n",
    "    adj = vector_to_adj(ind, variables, idx2edge)\n",
    "    \n",
    "    return least_squares_objective(adj, data)"
   ]
  },
  {
   "cell_type": "code",
   "execution_count": 24,
   "id": "3d1a6152",
   "metadata": {
    "scrolled": true
   },
   "outputs": [],
   "source": [
    "def h(W):\n",
    "    E = slin.expm(W * W)  # (Zheng et al. 2018)\n",
    "    d = W.shape[0]\n",
    "    h = np.trace(E) - d\n",
    " \n",
    "    return h\n"
   ]
  },
  {
   "cell_type": "code",
   "execution_count": 61,
   "id": "7a5aa1c4",
   "metadata": {
    "scrolled": true
   },
   "outputs": [],
   "source": [
    "def lagrangian(W, X, obj=least_squares_objective, restriction = h, mu=4):\n",
    "    F = obj(W,X)\n",
    "    penalty = mu*restriction(W)\n",
    "    return F + penalty"
   ]
  },
  {
   "cell_type": "code",
   "execution_count": 62,
   "id": "fb4e6cce",
   "metadata": {
    "scrolled": true
   },
   "outputs": [],
   "source": [
    "def fit_lagrangian(ind, variables, idx2edge, data):\n",
    "    adj = vector_to_adj(ind, variables, idx2edge)\n",
    "    \n",
    "    return lagrangian(adj, data)"
   ]
  },
  {
   "cell_type": "code",
   "execution_count": 63,
   "id": "d9b92a2d",
   "metadata": {
    "scrolled": true
   },
   "outputs": [],
   "source": [
    "def is_dag(W):\n",
    "    G = ig.Graph.Weighted_Adjacency(W.tolist())\n",
    "    return G.is_dag()"
   ]
  },
  {
   "cell_type": "code",
   "execution_count": 64,
   "id": "906c3440",
   "metadata": {
    "scrolled": true
   },
   "outputs": [],
   "source": [
    "def vector_to_adj(vector, variables, idx2edge, threshold = 0.3):\n",
    "    d = len(variables)\n",
    "    W = np.zeros([d,d])\n",
    "    for i in range(len(vector)):\n",
    "        edge = idx2edge[i]\n",
    "        #print(edge[0])\n",
    "        father, child = (edge[0], edge[1]) if vector[i] > 0 else (edge[1], edge[0])\n",
    "        idxFather = variables.index(father)\n",
    "        idxChild = variables.index(child)\n",
    "        W[idxFather, idxChild] = np.abs(vector[i])\n",
    "        \n",
    "    return W\n"
   ]
  },
  {
   "cell_type": "markdown",
   "id": "47f5aba1",
   "metadata": {},
   "source": [
    "# Operators"
   ]
  },
  {
   "cell_type": "code",
   "execution_count": 65,
   "id": "f84ff770",
   "metadata": {
    "scrolled": true
   },
   "outputs": [],
   "source": [
    "def add_edge(vector):\n",
    "    # Find indices where vector is equal to 0\n",
    "    zero_indices = np.where(vector == 0)[0]\n",
    "    \n",
    "    if len(zero_indices) == 0:\n",
    "        return vector\n",
    "\n",
    "    # Randomly select one of the zero indices\n",
    "    random_index = random.choice(zero_indices)\n",
    "\n",
    "    if random.random() > 0.5:\n",
    "        vector[random_index] = 1\n",
    "    else:\n",
    "        vector[random_index] = -1\n",
    "        \n",
    "    return vector"
   ]
  },
  {
   "cell_type": "code",
   "execution_count": 66,
   "id": "64824e85",
   "metadata": {
    "scrolled": true
   },
   "outputs": [],
   "source": [
    "def delete_edge(vector):\n",
    "    # Find indices where vector is not 0\n",
    "    neg_indices = np.where(vector == -1)[0]\n",
    "    pos_indices = np.where(vector == 1)[0]\n",
    "    non_zero_indices = np.concatenate([neg_indices, pos_indices])\n",
    "    if len(non_zero_indices) == 0:\n",
    "        return vector\n",
    "\n",
    "    # Randomly select one of the zero indices\n",
    "    random_index = random.choice(non_zero_indices)\n",
    "\n",
    "    vector[random_index] = 0\n",
    "        \n",
    "    return vector"
   ]
  },
  {
   "cell_type": "code",
   "execution_count": 67,
   "id": "7d090aed",
   "metadata": {
    "scrolled": true
   },
   "outputs": [],
   "source": [
    "def reverse_edge(vector):\n",
    "    # Find indices where vector is not 0\n",
    "    neg_indices = np.where(vector == -1)[0]\n",
    "    pos_indices = np.where(vector == 1)[0]\n",
    "    non_zero_indices = np.concatenate([neg_indices, pos_indices])\n",
    "    if len(non_zero_indices) == 0:\n",
    "        return vector\n",
    "\n",
    "    # Randomly select one of the zero indices\n",
    "    random_index = random.choice(non_zero_indices)\n",
    "    vector[random_index] = - vector[random_index]\n",
    "        \n",
    "    return vector"
   ]
  },
  {
   "cell_type": "code",
   "execution_count": 68,
   "id": "9d8ca06e",
   "metadata": {
    "scrolled": true
   },
   "outputs": [],
   "source": [
    "def mutate(vector, p_add = 0.5, p_del = 0.5, p_reverse = 0.5):\n",
    "    if random.random() < p_add:\n",
    "        vector = add_edge(vector)\n",
    "        \n",
    "    if random.random() < p_del:\n",
    "        vector = delete_edge(vector)\n",
    "        \n",
    "    if random.random() < p_reverse:\n",
    "        vector = reverse_edge(vector)\n",
    "        \n",
    "    return vector"
   ]
  },
  {
   "cell_type": "code",
   "execution_count": 69,
   "id": "1386baab",
   "metadata": {
    "scrolled": true
   },
   "outputs": [],
   "source": [
    "def crossover(parent1, parent2):\n",
    "    crossover_point = random.randint(1, len(parent1) - 1)\n",
    "    child1 = np.concatenate([parent1[:crossover_point], parent2[crossover_point:]])\n",
    "    child2 = np.concatenate([parent2[:crossover_point], parent1[crossover_point:]])\n",
    "    \n",
    "    return child1, child2"
   ]
  },
  {
   "cell_type": "code",
   "execution_count": 70,
   "id": "98a34ed8",
   "metadata": {
    "scrolled": true
   },
   "outputs": [],
   "source": [
    "def crossover_parents(population, fit, variables, idx2edge, data):\n",
    "    num_parents = len(population)\n",
    "    children = np.zeros([num_parents, population.shape[1]])\n",
    "    for i in range(num_parents):\n",
    "        # Find the indices of the best and worst parent\n",
    "\n",
    "        # Select the best and worst parents\n",
    "        parent1 = population[i]\n",
    "        parent2 = population[- (i+1)]\n",
    "\n",
    "        # Perform crossover between the best and worst parents\n",
    "        child1, child2 = crossover(parent1, parent2)\n",
    "\n",
    "        # Add the children to the list\n",
    "        if fit(child1, variables, idx2edge, data) < fit(child2,variables, idx2edge, data):\n",
    "            children[i,:] = child1\n",
    "        else:\n",
    "            children[i,:] = child2\n",
    "\n",
    "    return children"
   ]
  },
  {
   "cell_type": "markdown",
   "id": "17290c6c",
   "metadata": {},
   "source": [
    "# Queyranne"
   ]
  },
  {
   "cell_type": "code",
   "execution_count": 71,
   "id": "d6432d41",
   "metadata": {
    "scrolled": true
   },
   "outputs": [],
   "source": [
    "def pendent_pair(Vprime, V, S, f, data):\n",
    "    \"\"\" return Queyranne's pendent pair for function f over finite set V,\n",
    "        where the first (arbitary) input element x is V[0] \"\"\"\n",
    "    x = 0\n",
    "    vnew = Vprime[x]\n",
    "    n = len(Vprime)\n",
    "    Wi = []\n",
    "    used = np.zeros((n,1))\n",
    "    used[x] = 1\n",
    "\n",
    "    for i in range(n-1):\n",
    "        vold = vnew\n",
    "        Wi = Wi + S[vold]\n",
    "\n",
    "        ## update keys\n",
    "        keys = np.ones((n,1))*np.inf\n",
    "        for j in range(n):\n",
    "            if used[j]:\n",
    "                continue\n",
    "            keys[j] = f(Wi + S[Vprime[j]], V, data) - f(S[Vprime[j]], V, data)\n",
    "\n",
    "        ## extract min\n",
    "        argmin = np.argmin(keys)\n",
    "        vnew = Vprime[argmin]\n",
    "        used[argmin] = 1\n",
    "        fval = np.min(keys)\n",
    "\n",
    "    s = vold\n",
    "    t = vnew\n",
    "\n",
    "    return s, t, fval\n",
    "\n",
    "\n",
    "def diff(A, B):\n",
    "    # Check if B is an integer\n",
    "    if isinstance(A, int):\n",
    "        set_A = {A}  # Convert the integer to a set with a single element\n",
    "    else:\n",
    "        set_A = set(A)  # B is already a set\n",
    "    \n",
    "    \n",
    "    # Check if B is an integer\n",
    "    if isinstance(B, int):\n",
    "        set_B = {B}  # Convert the integer to a set with a single element\n",
    "    else:\n",
    "        set_B = set(B)  # B is already a set\n",
    "        \n",
    "        \n",
    "    result = [x for x in set_A if x not in set_B]\n",
    "    return result\n",
    "\n",
    "\n",
    "def optimal_set(V, f, data):\n",
    "    \"\"\" implement Queyranne's algorithm for finding the minimum of symmetric\n",
    "        submodular function f over the finite set V\n",
    "        to utilize: define a function f(S, V, params). Queyranne's algorithm will\n",
    "        minimize f[S] + f[V\\S] given any necessary parameters in params \"\"\"\n",
    "\n",
    "    n = len(V)\n",
    "    S = [[] for _ in range(n)]\n",
    "    for i in range(n):\n",
    "        S[i] = [V[i]]\n",
    "\n",
    "    p = np.zeros((n-1,1))\n",
    "    A = []\n",
    "    idxs = range(n)\n",
    "    for i in range(n-1):\n",
    "        ## find a pendant pair\n",
    "        t, u, fval = pendent_pair(idxs, V, S, f, data)\n",
    "        ## candidate solution\n",
    "        A.append(S[u])\n",
    "        p[i] = f(S[u],V,data)\n",
    "        S[t] = [*S[t], *S[u]]\n",
    "        idxs = diff(idxs, u)\n",
    "        S[u] = []\n",
    "\n",
    "    ## return minimum solution\n",
    "    i = np.argmin(p)\n",
    "    R = A[i]\n",
    "    fval = p[i]\n",
    "\n",
    "    ## make R look pretty\n",
    "    notR = diff(V,R)\n",
    "    R = sorted(R)\n",
    "    notR = sorted(notR)\n",
    "\n",
    "    if R[0] < notR[0]:\n",
    "        R = (list(R),list(notR))\n",
    "    else:\n",
    "        R = (list(notR),list(R))\n",
    "\n",
    "    return list(R), fval\n"
   ]
  },
  {
   "attachments": {
    "Screenshot%20from%202023-09-22%2009-52-03.png": {
     "image/png": "[encoded data removed]"
    }
   },
   "cell_type": "markdown",
   "id": "8f952606",
   "metadata": {},
   "source": [
    "![Screenshot%20from%202023-09-22%2009-52-03.png](attachment:Screenshot%20from%202023-09-22%2009-52-03.png)"
   ]
  },
  {
   "cell_type": "code",
   "execution_count": 72,
   "id": "bbeecab9",
   "metadata": {
    "scrolled": true
   },
   "outputs": [],
   "source": [
    "# Function to compute the determinant of the covariance matrix for a set of variables\n",
    "def det_cov(set_variables, all_variables, data):\n",
    "    df = data\n",
    "    selected_variables = df[set_variables]\n",
    "    \n",
    "    covariance_matrix = selected_variables.cov()\n",
    "    \n",
    "    determinant_selected = np.linalg.det(covariance_matrix)\n",
    "    \n",
    "    #all_variables = df.columns\n",
    "    complement_variables = [var for var in all_variables if var not in set_variables]\n",
    "\n",
    "    complement_selected_variables = df[complement_variables]\n",
    "    \n",
    "    covariance_matrix_complement = complement_selected_variables.cov()\n",
    "    \n",
    "    determinant_complement = np.linalg.det(covariance_matrix_complement)\n",
    "    \n",
    "    return determinant_selected+determinant_complement"
   ]
  },
  {
   "cell_type": "code",
   "execution_count": 73,
   "id": "cad8f5c4",
   "metadata": {
    "scrolled": true
   },
   "outputs": [],
   "source": [
    "res = optimal_set(variables, det_cov, data)"
   ]
  },
  {
   "cell_type": "code",
   "execution_count": 74,
   "id": "0e03f939",
   "metadata": {
    "scrolled": true
   },
   "outputs": [
    {
     "data": {
      "text/plain": [
       "([['A', 'L', 'T'], ['B', 'D', 'E', 'S', 'X']], array([2.00706407e-05]))"
      ]
     },
     "execution_count": 74,
     "metadata": {},
     "output_type": "execute_result"
    }
   ],
   "source": [
    "res"
   ]
  },
  {
   "cell_type": "code",
   "execution_count": 75,
   "id": "77b66138",
   "metadata": {
    "scrolled": true
   },
   "outputs": [],
   "source": [
    "def generate_individual(partition, edge2idx):\n",
    "    edges_in_group = []\n",
    "    for g in partition[0]:    \n",
    "        edges_in_group.append(list(combinations(g, 2)))\n",
    "        \n",
    "    ind = np.zeros(len(edge2idx))\n",
    "    for edge_group in edges_in_group:\n",
    "        for edge in edge_group:\n",
    "            if edge in edge2idx.keys():\n",
    "                ind[edge2idx[edge]] = 1 if random.random() > 0.5 else -1\n",
    "            else:\n",
    "                ind[edge2idx[edge[::-1]]] = 1 if random.random() > 0.5 else -1\n",
    "            \n",
    "    return ind\n",
    "\n",
    "def generate_pop(pop_size, partition, edge2idx, submodular=False):\n",
    "    pop = np.zeros([pop_size, len(edge2idx)])\n",
    "    for i in range(pop_size):\n",
    "        if not submodular:\n",
    "               ind = random_vector(len(edge2idx))\n",
    "        else:\n",
    "            ind = generate_individual(partition, edge2idx)\n",
    "        pop[i,:] = ind\n",
    "    return pop\n"
   ]
  },
  {
   "cell_type": "markdown",
   "id": "af7b7abb",
   "metadata": {},
   "source": [
    "# Evolutivo"
   ]
  },
  {
   "cell_type": "code",
   "execution_count": 106,
   "id": "e9c05de2",
   "metadata": {
    "scrolled": false
   },
   "outputs": [],
   "source": [
    "size_pop = 200\n",
    "pop = generate_pop(size_pop, res, edge2idx, submodular=False)\n",
    "\n",
    "epochs = 100\n",
    "\n",
    "#fit_ls(ind, variables, idx2edge, data)\n",
    "#vector_to_adj(vector, variables, idx2edge, threshold = 0.3)\n",
    "\n",
    "def is_connected(adj_matrix):\n",
    "    n = len(adj_matrix)\n",
    "    visited = [False] * n\n",
    "\n",
    "    # Perform a depth-first search from the first node\n",
    "    def dfs(node):\n",
    "        visited[node] = True\n",
    "        for neighbor in range(n):\n",
    "            if adj_matrix[node][neighbor] and not visited[neighbor]:\n",
    "                dfs(neighbor)\n",
    "\n",
    "    # Start DFS from the first node\n",
    "    dfs(0)\n",
    "\n",
    "    # If all nodes are visited, the graph is connected\n",
    "    return all(visited)\n",
    "\n",
    "def sort_pop (pop, fit):\n",
    "    fit_vector = [fit(ind, variables, idx2edge, data) for ind in pop]\n",
    "    rank = np.argsort(fit_vector)\n",
    "    \n",
    "    return pop[rank]\n",
    "\n",
    "def evol (pop, eps=1e-8, fit = fit_ls):\n",
    "    best_fit_vector = []\n",
    "    best_h = []\n",
    "    best_fit = 9999\n",
    "    for i in range(epochs):\n",
    "        fit_vector = [fit(ind, variables, idx2edge, data) for ind in pop]\n",
    "        print(min(fit_vector), best_fit)\n",
    "        if np.abs(min(fit_vector) - best_fit) < eps and i > 10:  \n",
    "            return pop, best_fit_vector, best_h\n",
    "        \n",
    "        best_fit = min(fit_vector)\n",
    "        best_fit_vector.append(best_fit)\n",
    "        rank = np.argsort(fit_vector)\n",
    "        \n",
    "        best = rank[:size_pop//2]\n",
    "        parents = pop[best]\n",
    "        best_h.append(h(vector_to_adj(parents[0], variables, idx2edge)))\n",
    "        offspring = crossover_parents(parents, fit_ls, variables, idx2edge, data)\n",
    "        pop = np.concatenate([parents, offspring])\n",
    "\n",
    "        for i in range(len(pop)):\n",
    "            if random.random() < 0.8:\n",
    "                pop[i] = mutate(pop[i])\n",
    "    \n",
    "    return pop, best_fit_vector"
   ]
  },
  {
   "cell_type": "code",
   "execution_count": 107,
   "id": "72d26f19",
   "metadata": {
    "scrolled": true
   },
   "outputs": [
    {
     "name": "stdout",
     "output_type": "stream",
     "text": [
      "1.8585 9999\n",
      "1.4485000000000001 1.8585\n",
      "0.986 1.4485000000000001\n",
      "0.8250000000000001 0.986\n",
      "0.784 0.8250000000000001\n",
      "0.6725 0.784\n",
      "0.6245 0.6725\n",
      "0.6715 0.6245\n",
      "0.5685 0.6715\n",
      "0.5680000000000001 0.5685\n",
      "0.5665 0.5680000000000001\n",
      "0.5515 0.5665\n",
      "0.5265 0.5515\n",
      "0.5105000000000001 0.5265\n",
      "0.5 0.5105000000000001\n",
      "0.5 0.5\n"
     ]
    }
   ],
   "source": [
    "pop, fitness, best_h = evol(pop, fit = fit_lagrangian)"
   ]
  },
  {
   "cell_type": "code",
   "execution_count": 108,
   "id": "95f7138e",
   "metadata": {
    "scrolled": true
   },
   "outputs": [
    {
     "data": {
      "text/plain": [
       "[<matplotlib.lines.Line2D at 0x7fd4eca42110>]"
      ]
     },
     "execution_count": 108,
     "metadata": {},
     "output_type": "execute_result"
    },
    {
     "data": {
      "image/png": "[encoded data removed]",
      "text/plain": [
       "<Figure size 432x288 with 1 Axes>"
      ]
     },
     "metadata": {
      "needs_background": "light"
     },
     "output_type": "display_data"
    }
   ],
   "source": [
    "plt.plot(fitness)"
   ]
  },
  {
   "cell_type": "code",
   "execution_count": 109,
   "id": "1488a601",
   "metadata": {},
   "outputs": [
    {
     "data": {
      "text/plain": [
       "[<matplotlib.lines.Line2D at 0x7fd4eca37e10>]"
      ]
     },
     "execution_count": 109,
     "metadata": {},
     "output_type": "execute_result"
    },
    {
     "data": {
      "image/png": "[encoded data removed]",
      "text/plain": [
       "<Figure size 432x288 with 1 Axes>"
      ]
     },
     "metadata": {
      "needs_background": "light"
     },
     "output_type": "display_data"
    }
   ],
   "source": [
    "plt.plot(best_h)"
   ]
  },
  {
   "cell_type": "code",
   "execution_count": 110,
   "id": "262c0ad6",
   "metadata": {
    "scrolled": true
   },
   "outputs": [],
   "source": [
    "def sort_pop (pop, fit):\n",
    "    fit_vector = [fit(ind, variables, idx2edge, data) for ind in pop]\n",
    "    rank = np.argsort(fit_vector)\n",
    "    \n",
    "    return pop[rank]"
   ]
  },
  {
   "cell_type": "code",
   "execution_count": 111,
   "id": "471a70b5",
   "metadata": {
    "scrolled": true
   },
   "outputs": [],
   "source": [
    "sorted_pop = sort_pop(pop, fit_ls)"
   ]
  },
  {
   "cell_type": "code",
   "execution_count": 140,
   "id": "59249e57",
   "metadata": {
    "scrolled": true
   },
   "outputs": [],
   "source": [
    "best = sorted_pop[0]"
   ]
  },
  {
   "cell_type": "code",
   "execution_count": 141,
   "id": "dd356710",
   "metadata": {
    "scrolled": true
   },
   "outputs": [],
   "source": [
    "best_adj = vector_to_adj(sorted_pop[0], variables, idx2edge)"
   ]
  },
  {
   "cell_type": "code",
   "execution_count": 142,
   "id": "ad642819",
   "metadata": {
    "scrolled": true
   },
   "outputs": [
    {
     "data": {
      "text/plain": [
       "0.0"
      ]
     },
     "execution_count": 142,
     "metadata": {},
     "output_type": "execute_result"
    }
   ],
   "source": [
    "h(best_adj)"
   ]
  },
  {
   "cell_type": "code",
   "execution_count": 143,
   "id": "9c733639",
   "metadata": {},
   "outputs": [
    {
     "data": {
      "text/plain": [
       "False"
      ]
     },
     "execution_count": 143,
     "metadata": {},
     "output_type": "execute_result"
    }
   ],
   "source": [
    "is_connected(best_adj)"
   ]
  },
  {
   "cell_type": "code",
   "execution_count": 116,
   "id": "8661cc1a",
   "metadata": {},
   "outputs": [
    {
     "data": {
      "text/plain": [
       "['S', 'L', 'A', 'T', 'E', 'X', 'B', 'D']"
      ]
     },
     "execution_count": 116,
     "metadata": {},
     "output_type": "execute_result"
    }
   ],
   "source": [
    "variables"
   ]
  },
  {
   "cell_type": "code",
   "execution_count": 117,
   "id": "77e18524",
   "metadata": {
    "scrolled": true
   },
   "outputs": [
    {
     "data": {
      "text/plain": [
       "array([[0., 0., 0., 0., 0., 0., 0., 0.],\n",
       "       [0., 0., 0., 0., 1., 0., 0., 0.],\n",
       "       [0., 0., 0., 0., 0., 0., 0., 0.],\n",
       "       [0., 0., 0., 0., 0., 0., 0., 0.],\n",
       "       [0., 0., 0., 0., 0., 1., 0., 1.],\n",
       "       [0., 0., 0., 0., 0., 0., 0., 0.],\n",
       "       [1., 0., 0., 0., 0., 0., 0., 0.],\n",
       "       [0., 0., 0., 0., 0., 0., 1., 0.]])"
      ]
     },
     "execution_count": 117,
     "metadata": {},
     "output_type": "execute_result"
    }
   ],
   "source": [
    "best_adj"
   ]
  },
  {
   "cell_type": "code",
   "execution_count": 118,
   "id": "cdbf83ef",
   "metadata": {
    "scrolled": true
   },
   "outputs": [
    {
     "data": {
      "text/plain": [
       "array([[0., 1., 0., 0., 0., 0., 1., 0.],\n",
       "       [0., 0., 0., 0., 1., 0., 0., 0.],\n",
       "       [0., 0., 0., 1., 0., 0., 0., 0.],\n",
       "       [0., 0., 0., 0., 1., 0., 0., 0.],\n",
       "       [0., 0., 0., 0., 0., 1., 0., 1.],\n",
       "       [0., 0., 0., 0., 0., 0., 0., 0.],\n",
       "       [0., 0., 0., 0., 0., 0., 0., 1.],\n",
       "       [0., 0., 0., 0., 0., 0., 0., 0.]])"
      ]
     },
     "execution_count": 118,
     "metadata": {},
     "output_type": "execute_result"
    }
   ],
   "source": [
    "gt"
   ]
  },
  {
   "cell_type": "code",
   "execution_count": 119,
   "id": "0df12dd5",
   "metadata": {},
   "outputs": [
    {
     "data": {
      "text/plain": [
       "0.0"
      ]
     },
     "execution_count": 119,
     "metadata": {},
     "output_type": "execute_result"
    }
   ],
   "source": [
    "h(gt)"
   ]
  },
  {
   "cell_type": "code",
   "execution_count": 120,
   "id": "a0a39bdd",
   "metadata": {
    "scrolled": true
   },
   "outputs": [
    {
     "data": {
      "text/plain": [
       "0.5"
      ]
     },
     "execution_count": 120,
     "metadata": {},
     "output_type": "execute_result"
    }
   ],
   "source": [
    "least_squares_objective(best_adj, data)"
   ]
  },
  {
   "cell_type": "code",
   "execution_count": 121,
   "id": "d2852297",
   "metadata": {
    "scrolled": true
   },
   "outputs": [
    {
     "data": {
      "text/plain": [
       "0.7785"
      ]
     },
     "execution_count": 121,
     "metadata": {},
     "output_type": "execute_result"
    }
   ],
   "source": [
    "least_squares_objective(gt, data)"
   ]
  },
  {
   "cell_type": "code",
   "execution_count": 122,
   "id": "dd32d3ee",
   "metadata": {
    "scrolled": true
   },
   "outputs": [
    {
     "data": {
      "text/plain": [
       "0.5"
      ]
     },
     "execution_count": 122,
     "metadata": {},
     "output_type": "execute_result"
    }
   ],
   "source": [
    "lagrangian(best_adj, data)"
   ]
  },
  {
   "cell_type": "code",
   "execution_count": 123,
   "id": "5b208398",
   "metadata": {
    "scrolled": true
   },
   "outputs": [
    {
     "data": {
      "text/plain": [
       "0.7785"
      ]
     },
     "execution_count": 123,
     "metadata": {},
     "output_type": "execute_result"
    }
   ],
   "source": [
    "lagrangian(gt,data)"
   ]
  },
  {
   "cell_type": "code",
   "execution_count": 124,
   "id": "8cd1acc6",
   "metadata": {
    "scrolled": true
   },
   "outputs": [],
   "source": [
    "BN = vec2bayesNet(best)"
   ]
  },
  {
   "cell_type": "code",
   "execution_count": 125,
   "id": "aeb63812",
   "metadata": {
    "scrolled": true
   },
   "outputs": [
    {
     "ename": "ValueError",
     "evalue": "Missing columns in data. Can't find values for the following variables: set()",
     "output_type": "error",
     "traceback": [
      "\u001b[0;31m---------------------------------------------------------------------------\u001b[0m",
      "\u001b[0;31mValueError\u001b[0m                                Traceback (most recent call last)",
      "\u001b[0;32m<ipython-input-125-8d1dcedf1941>\u001b[0m in \u001b[0;36m<module>\u001b[0;34m\u001b[0m\n\u001b[0;32m----> 1\u001b[0;31m \u001b[0mbic\u001b[0m\u001b[0;34m(\u001b[0m\u001b[0mBN\u001b[0m\u001b[0;34m,\u001b[0m \u001b[0mdata\u001b[0m\u001b[0;34m)\u001b[0m\u001b[0;34m\u001b[0m\u001b[0;34m\u001b[0m\u001b[0m\n\u001b[0m",
      "\u001b[0;32m<ipython-input-16-65c879c50f62>\u001b[0m in \u001b[0;36mbic\u001b[0;34m(model, data)\u001b[0m\n\u001b[1;32m      1\u001b[0m \u001b[0;31m# MINIMIZAR O MODULO DO BIC\u001b[0m\u001b[0;34m\u001b[0m\u001b[0;34m\u001b[0m\u001b[0;34m\u001b[0m\u001b[0m\n\u001b[1;32m      2\u001b[0m \u001b[0;32mdef\u001b[0m \u001b[0mbic\u001b[0m\u001b[0;34m(\u001b[0m\u001b[0mmodel\u001b[0m\u001b[0;34m,\u001b[0m \u001b[0mdata\u001b[0m\u001b[0;34m)\u001b[0m\u001b[0;34m:\u001b[0m\u001b[0;34m\u001b[0m\u001b[0;34m\u001b[0m\u001b[0m\n\u001b[0;32m----> 3\u001b[0;31m     \u001b[0;32mreturn\u001b[0m \u001b[0mnp\u001b[0m\u001b[0;34m.\u001b[0m\u001b[0mabs\u001b[0m\u001b[0;34m(\u001b[0m\u001b[0mstructure_score\u001b[0m\u001b[0;34m(\u001b[0m\u001b[0mmodel\u001b[0m\u001b[0;34m,\u001b[0m \u001b[0mdata\u001b[0m\u001b[0;34m,\u001b[0m \u001b[0mscoring_method\u001b[0m\u001b[0;34m=\u001b[0m\u001b[0;34m\"bic\"\u001b[0m\u001b[0;34m)\u001b[0m\u001b[0;34m)\u001b[0m\u001b[0;34m\u001b[0m\u001b[0;34m\u001b[0m\u001b[0m\n\u001b[0m",
      "\u001b[0;32m~/anaconda3/lib/python3.7/site-packages/pgmpy/metrics/metrics.py\u001b[0m in \u001b[0;36mstructure_score\u001b[0;34m(model, data, scoring_method, **kwargs)\u001b[0m\n\u001b[1;32m    244\u001b[0m     \u001b[0;32melif\u001b[0m \u001b[0mset\u001b[0m\u001b[0;34m(\u001b[0m\u001b[0mmodel\u001b[0m\u001b[0;34m.\u001b[0m\u001b[0mnodes\u001b[0m\u001b[0;34m(\u001b[0m\u001b[0;34m)\u001b[0m\u001b[0;34m)\u001b[0m \u001b[0;34m!=\u001b[0m \u001b[0mset\u001b[0m\u001b[0;34m(\u001b[0m\u001b[0mdata\u001b[0m\u001b[0;34m.\u001b[0m\u001b[0mcolumns\u001b[0m\u001b[0;34m)\u001b[0m\u001b[0;34m:\u001b[0m\u001b[0;34m\u001b[0m\u001b[0;34m\u001b[0m\u001b[0m\n\u001b[1;32m    245\u001b[0m         raise ValueError(\n\u001b[0;32m--> 246\u001b[0;31m             \u001b[0;34mf\"Missing columns in data. Can't find values for the following variables: { set(model.nodes()) - set(data.columns) }\"\u001b[0m\u001b[0;34m\u001b[0m\u001b[0;34m\u001b[0m\u001b[0m\n\u001b[0m\u001b[1;32m    247\u001b[0m         )\n\u001b[1;32m    248\u001b[0m     elif (scoring_method not in supported_methods.keys()) and (\n",
      "\u001b[0;31mValueError\u001b[0m: Missing columns in data. Can't find values for the following variables: set()"
     ]
    }
   ],
   "source": [
    "bic(BN, data)"
   ]
  },
  {
   "cell_type": "code",
   "execution_count": 96,
   "id": "a557ffbd",
   "metadata": {},
   "outputs": [
    {
     "data": {
      "text/plain": [
       "2249.1108152763663"
      ]
     },
     "execution_count": 96,
     "metadata": {},
     "output_type": "execute_result"
    }
   ],
   "source": [
    "bic(vec2bayesNet(gt_vec), data)"
   ]
  },
  {
   "cell_type": "code",
   "execution_count": 126,
   "id": "6cf7603d",
   "metadata": {
    "scrolled": true
   },
   "outputs": [],
   "source": [
    "DG = vector2DiGraph(best)"
   ]
  },
  {
   "cell_type": "code",
   "execution_count": 127,
   "id": "983b10e2",
   "metadata": {
    "scrolled": true
   },
   "outputs": [
    {
     "data": {
      "image/png": "[encoded data removed]",
      "text/plain": [
       "<Figure size 432x288 with 1 Axes>"
      ]
     },
     "metadata": {},
     "output_type": "display_data"
    }
   ],
   "source": [
    "drawDiGraph (DG)"
   ]
  },
  {
   "cell_type": "code",
   "execution_count": 99,
   "id": "c7b3362c",
   "metadata": {},
   "outputs": [
    {
     "data": {
      "image/png": "[encoded data removed]",
      "text/plain": [
       "<Figure size 432x288 with 1 Axes>"
      ]
     },
     "metadata": {},
     "output_type": "display_data"
    }
   ],
   "source": [
    "draw_adj(gt)"
   ]
  },
  {
   "attachments": {
    "The-Asia-network-an-example-of-a-Bayesian-network.png": {
     "image/png": "[encoded data removed]"
    }
   },
   "cell_type": "markdown",
   "id": "0432eaa5",
   "metadata": {},
   "source": [
    "![The-Asia-network-an-example-of-a-Bayesian-network.png](attachment:The-Asia-network-an-example-of-a-Bayesian-network.png)"
   ]
  },
  {
   "cell_type": "code",
   "execution_count": 100,
   "id": "7381bdbb",
   "metadata": {},
   "outputs": [],
   "source": [
    "import numpy as np\n",
    "import pandas as pd\n",
    "\n",
    "def compute_bic_score(adj_matrix, data):\n",
    "    \"\"\"\n",
    "    Compute the BIC score for a given DAG and data.\n",
    "\n",
    "    Parameters:\n",
    "    - adj_matrix: The adjacency matrix of the DAG (numpy array).\n",
    "    - data: The dataframe containing the data.\n",
    "\n",
    "    Returns:\n",
    "    - bic_score: The computed BIC score.\n",
    "    \"\"\"\n",
    "    n, _ = adj_matrix.shape\n",
    "    num_params = np.sum(adj_matrix)  # Count the number of parameters (edges)\n",
    "    log_likelihood = 0.0\n",
    "\n",
    "    for i in range(n):\n",
    "        # Get the parents of node i (nodes that have an edge to i)\n",
    "        parents = np.where(adj_matrix[:, i] == 1)[0]\n",
    "\n",
    "        if len(parents) == 0:\n",
    "            # If node i has no parents, calculate the likelihood directly from data\n",
    "            unique_counts = data.iloc[:, i].value_counts()\n",
    "            for val, count in unique_counts.items():\n",
    "                prob = count / len(data)\n",
    "                log_likelihood += count * np.log(prob)\n",
    "        else:\n",
    "            # If node i has parents, calculate conditional probabilities\n",
    "            parent_data = data.iloc[:, parents]\n",
    "            if not parent_data.empty:\n",
    "                joint_data = pd.concat([parent_data, data.iloc[:, i]], axis=1)\n",
    "                unique_joint_counts = joint_data.groupby(list(joint_data.columns)).size()\n",
    "                for values, count in unique_joint_counts.items():\n",
    "                    parent_values = list(values[:-1])  # Convert tuple to list\n",
    "                    node_value = values[-1]\n",
    "                    prob = count / len(data.iloc[:, parent_values])  # Use iloc\n",
    "                    log_likelihood += count * np.log(prob)\n",
    "\n",
    "    # Calculate BIC score\n",
    "    bic_score = log_likelihood - 0.5 * num_params * np.log(len(data))\n",
    "\n",
    "    return bic_score\n",
    "\n",
    "# Example usage:\n",
    "# Assuming 'adj_matrix' is the adjacency matrix of the DAG and 'data' is your dataframe\n",
    "# bic = compute_bic_score(adj_matrix, data)\n",
    "# print(\"BIC Score:\", bic)\n"
   ]
  },
  {
   "cell_type": "code",
   "execution_count": 101,
   "id": "cc194f15",
   "metadata": {},
   "outputs": [
    {
     "data": {
      "text/plain": [
       "2249.1108152763663"
      ]
     },
     "execution_count": 101,
     "metadata": {},
     "output_type": "execute_result"
    }
   ],
   "source": [
    "bic(vec2bayesNet(gt_vec), data)"
   ]
  },
  {
   "cell_type": "code",
   "execution_count": 102,
   "id": "f5d77619",
   "metadata": {},
   "outputs": [
    {
     "data": {
      "text/plain": [
       "-2530.088361680843"
      ]
     },
     "execution_count": 102,
     "metadata": {},
     "output_type": "execute_result"
    }
   ],
   "source": [
    "compute_bic_score(gt, data) / 2"
   ]
  },
  {
   "cell_type": "code",
   "execution_count": 103,
   "id": "75e672b4",
   "metadata": {},
   "outputs": [],
   "source": [
    "import bnlearn as bn"
   ]
  },
  {
   "cell_type": "code",
   "execution_count": 104,
   "id": "2f421690",
   "metadata": {},
   "outputs": [
    {
     "name": "stdout",
     "output_type": "stream",
     "text": [
      "[bnlearn] >No changes made to existing bayes DAG.\n"
     ]
    }
   ],
   "source": [
    "DAG = bn.make_DAG(vec2bayesNet(best))"
   ]
  },
  {
   "cell_type": "code",
   "execution_count": 105,
   "id": "2a144580",
   "metadata": {},
   "outputs": [
    {
     "ename": "AttributeError",
     "evalue": "module 'bnlearn.bnlearn' has no attribute 'structure_scores'",
     "output_type": "error",
     "traceback": [
      "\u001b[0;31m---------------------------------------------------------------------------\u001b[0m",
      "\u001b[0;31mAttributeError\u001b[0m                            Traceback (most recent call last)",
      "\u001b[0;32m<ipython-input-105-0232db6ff92a>\u001b[0m in \u001b[0;36m<module>\u001b[0;34m\u001b[0m\n\u001b[0;32m----> 1\u001b[0;31m \u001b[0mbn\u001b[0m\u001b[0;34m.\u001b[0m\u001b[0mbnlearn\u001b[0m\u001b[0;34m.\u001b[0m\u001b[0mstructure_scores\u001b[0m\u001b[0;34m(\u001b[0m\u001b[0mDAG\u001b[0m\u001b[0;34m,\u001b[0m \u001b[0mdata\u001b[0m\u001b[0;34m,\u001b[0m \u001b[0mscoring_method\u001b[0m\u001b[0;34m=\u001b[0m\u001b[0;34m\"bic\"\u001b[0m\u001b[0;34m)\u001b[0m\u001b[0;34m\u001b[0m\u001b[0;34m\u001b[0m\u001b[0m\n\u001b[0m",
      "\u001b[0;31mAttributeError\u001b[0m: module 'bnlearn.bnlearn' has no attribute 'structure_scores'"
     ]
    }
   ],
   "source": [
    "bn.bnlearn.structure_scores(DAG, data, scoring_method=\"bic\")"
   ]
  },
  {
   "cell_type": "code",
   "execution_count": null,
   "id": "7e0fbb57",
   "metadata": {},
   "outputs": [],
   "source": []
  }
 ],
 "metadata": {
  "kernelspec": {
   "display_name": "Python 3 (ipykernel)",
   "language": "python",
   "name": "python3"
  },
  "language_info": {
   "codemirror_mode": {
    "name": "ipython",
    "version": 3
   },
   "file_extension": ".py",
   "mimetype": "text/x-python",
   "name": "python",
   "nbconvert_exporter": "python",
   "pygments_lexer": "ipython3",
   "version": "3.7.6"
  }
 },
 "nbformat": 4,
 "nbformat_minor": 5
}
